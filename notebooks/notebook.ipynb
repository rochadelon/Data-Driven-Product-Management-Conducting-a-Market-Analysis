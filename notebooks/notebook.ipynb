{
    "cells": [
        {
            "cell_type": "markdown",
            "metadata": {
                "cell_id": "f0109c737bb547538313f227eaaf37c8",
                "deepnote_cell_type": "markdown"
            },
            "source": "***You are a product manager for a fitness studio and are interested in understanding the current demand for digital fitness classes. You plan to conduct a market analysis in Python to gauge demand and identify potential areas for growth of digital products and services.***\n\n\n### The Data\n\nYou are provided with a number of CSV files in the \"Files/data\" folder, which offer international and national-level data on Google Trends keyword searches related to fitness and related products. \n\n### workout.csv\n\n| Column     | Description              |\n|------------|--------------------------|\n| `'month'` | Month when the data was measured. |\n| `'workout_worldwide'` | Index representing the popularity of the keyword 'workout', on a scale of 0 to 100. |\n\n### three_keywords.csv\n\n| Column     | Description              |\n|------------|--------------------------|\n| `'month'` | Month when the data was measured. |\n| `'home_workout_worldwide'` | Index representing the popularity of the keyword 'home workout', on a scale of 0 to 100. |\n| `'gym_workout_worldwide'` | Index representing the popularity of the keyword 'gym workout', on a scale of 0 to 100. |\n| `'home_gym_worldwide'` | Index representing the popularity of the keyword 'home gym', on a scale of 0 to 100. |\n\n### workout_geo.csv\n\n| Column     | Description              |\n|------------|--------------------------|\n| `'country'` | Country where the data was measured. |\n| `'workout_2018_2023'` | Index representing the popularity of the keyword 'workout' during the 5 year period. |\n\n### three_keywords_geo.csv\n\n| Column     | Description              |\n|------------|--------------------------|\n| `'country'` | Country where the data was measured. |\n| `'home_workout_2018_2023'` | Index representing the popularity of the keyword 'home workout' during the 5 year period. |\n| `'gym_workout_2018_2023'` | Index representing the popularity of the keyword 'gym workout' during the 5 year period.  |\n| `'home_gym_2018_2023'` | Index representing the popularity of the keyword 'home gym' during the 5 year period. |",
            "block_group": "9eb39bc897564a2499f73acd451e9672"
        },
        {
            "cell_type": "code",
            "metadata": {
                "source_hash": "a9f170d7",
                "executionTime": 3325,
                "lastExecutedAt": 1758386592733,
                "execution_start": 1759029350298,
                "outputsMetadata": {
                    "0": {
                        "type": "dataFrame",
                        "height": 321
                    }
                },
                "execution_millis": 608,
                "lastScheduledRunId": null,
                "executionCancelledAt": null,
                "execution_context_id": "580fb81c-8d6f-4804-9cb5-7036727bb28b",
                "lastExecutedByKernel": "a0925e5a-8d04-4ff2-9b0c-ef6b793bfe34",
                "lastSuccessfullyExecutedCode": "# Import the necessary libraries\nimport pandas as pd\nimport matplotlib.pyplot as plt\n",
                "cell_id": "d883e84febca48d9b9070feb4f6c3dbb",
                "deepnote_cell_type": "code"
            },
            "source": "# Import the necessary libraries\nimport pandas as pd\nimport matplotlib.pyplot as plt\n",
            "block_group": "48612bd0cd344e14aaf76813a81aeebf",
            "execution_count": 1,
            "outputs": [],
            "outputs_reference": null,
            "content_dependencies": null
        },
        {
            "cell_type": "markdown",
            "metadata": {
                "formattedRanges": [],
                "cell_id": "1d34cd05bf2d460b9e8f4c3ec7246247",
                "deepnote_cell_type": "text-cell-h3"
            },
            "source": "### When was the global search for 'workout' at its peak?",
            "block_group": "ba3e25f23e0d4e78963b4bc648c24ded"
        },
        {
            "cell_type": "code",
            "metadata": {
                "source_hash": "f738bb9e",
                "executionTime": 18,
                "lastExecutedAt": 1758386637863,
                "execution_start": 1759029350957,
                "outputsMetadata": {
                    "0": {
                        "type": "dataFrame",
                        "height": 550,
                        "tableState": {}
                    }
                },
                "execution_millis": 276,
                "lastScheduledRunId": null,
                "executionCancelledAt": null,
                "execution_context_id": "580fb81c-8d6f-4804-9cb5-7036727bb28b",
                "lastExecutedByKernel": "a0925e5a-8d04-4ff2-9b0c-ef6b793bfe34",
                "lastSuccessfullyExecutedCode": "# Start coding here\nworkout = pd.read_csv('data/workout.csv')\nmax_value = workout['workout_worldwide'].max()\nlinha_max  = workout[workout['workout_worldwide'] == max_value]\nyear_str = str(linha_max['month'].iloc[0])[:4]\n\n",
                "cell_id": "f125f76f05784b03891c5e1114aa5c1e",
                "deepnote_cell_type": "code"
            },
            "source": "workout = pd.read_csv('/work/Data_Driven_Product_Management_Conducting_a_Market_Analysis/data/workout.csv')\nmax_value = workout['workout_worldwide'].max()\nlinha_max  = workout[workout['workout_worldwide'] == max_value]\nyear_str = str(linha_max['month'].iloc[0])[:4]\nyear_str",
            "block_group": "2eb3b13c12e946848abd187248e0da56",
            "execution_count": 2,
            "outputs": [
                {
                    "output_type": "execute_result",
                    "execution_count": 2,
                    "data": {
                        "text/plain": "'2020'"
                    },
                    "metadata": {}
                }
            ],
            "outputs_reference": "dbtable:cell_outputs/4edc2bdb-731b-4748-96db-c1f08385feff",
            "content_dependencies": null
        },
        {
            "cell_type": "markdown",
            "metadata": {
                "formattedRanges": [],
                "cell_id": "378070b774824655bdc3e340313fe0f7",
                "deepnote_cell_type": "text-cell-h3"
            },
            "source": "### Of the keywords available, what was the most popular during the covid pandemic, and what is the most popular now?",
            "block_group": "dcf864de85a44c07a1337c46130d514e"
        },
        {
            "cell_type": "code",
            "metadata": {
                "source_hash": "345e879f",
                "executionTime": 17,
                "lastExecutedAt": 1758386644541,
                "execution_start": 1759029351278,
                "execution_millis": 172,
                "lastScheduledRunId": null,
                "executionCancelledAt": null,
                "execution_context_id": "580fb81c-8d6f-4804-9cb5-7036727bb28b",
                "lastExecutedByKernel": "a0925e5a-8d04-4ff2-9b0c-ef6b793bfe34",
                "lastSuccessfullyExecutedCode": "three_keywords = pd.read_csv('data/three_keywords.csv')",
                "cell_id": "ac27ebfb1be84c4091b12906ac530e72",
                "deepnote_cell_type": "code"
            },
            "source": "three_keywords = pd.read_csv('/work/Data_Driven_Product_Management_Conducting_a_Market_Analysis/data/three_keywords.csv')",
            "block_group": "18f7f3819fcb419d95464656dedb2980",
            "execution_count": 3,
            "outputs": [],
            "outputs_reference": null,
            "content_dependencies": null
        },
        {
            "cell_type": "markdown",
            "metadata": {
                "formattedRanges": [],
                "cell_id": "93ca4336f2b2400cade224303c9e44e2",
                "deepnote_cell_type": "text-cell-h2"
            },
            "source": "## Popular Keyworlds Search Wordwide 2018-2023",
            "block_group": "fb036b57a22b4773abb38c1210563091"
        },
        {
            "cell_type": "code",
            "metadata": {
                "source_hash": "407af728",
                "execution_start": 1759029351948,
                "execution_millis": 137,
                "execution_context_id": "580fb81c-8d6f-4804-9cb5-7036727bb28b",
                "deepnote_chart_height": 463,
                "deepnote_variable_name": "three_keywords",
                "deepnote_config_collapsed": true,
                "deepnote_visualization_spec": {
                    "layer": [
                        {
                            "layer": [
                                {
                                    "layer": [
                                        {
                                            "mark": {
                                                "clip": true,
                                                "type": "line",
                                                "color": "#2266D3",
                                                "tooltip": true
                                            },
                                            "encoding": {
                                                "x": {
                                                    "sort": "ascending",
                                                    "type": "nominal",
                                                    "field": "month",
                                                    "scale": {
                                                        "type": "linear",
                                                        "zero": false
                                                    }
                                                },
                                                "y": {
                                                    "axis": {
                                                        "format": {
                                                            "type": "default",
                                                            "decimals": null
                                                        },
                                                        "formatType": "numberFormatFromNumberType"
                                                    },
                                                    "type": "quantitative",
                                                    "field": "home_workout_worldwide",
                                                    "scale": {
                                                        "type": "linear",
                                                        "zero": false
                                                    },
                                                    "format": {
                                                        "type": "default",
                                                        "decimals": null
                                                    },
                                                    "aggregate": "sum",
                                                    "formatType": "numberFormatFromNumberType"
                                                },
                                                "color": {
                                                    "type": "nominal",
                                                    "datum": "'Home Workout'",
                                                    "scale": {
                                                        "range": [
                                                            "#2266D3"
                                                        ],
                                                        "domain": [
                                                            "'Home Workout'"
                                                        ]
                                                    }
                                                }
                                            },
                                            "transform": []
                                        }
                                    ]
                                },
                                {
                                    "layer": [
                                        {
                                            "mark": {
                                                "clip": true,
                                                "type": "line",
                                                "color": "#CC8BFF",
                                                "tooltip": true
                                            },
                                            "encoding": {
                                                "x": {
                                                    "sort": "ascending",
                                                    "type": "nominal",
                                                    "field": "month",
                                                    "scale": {
                                                        "type": "linear",
                                                        "zero": false
                                                    }
                                                },
                                                "y": {
                                                    "axis": {
                                                        "format": {
                                                            "type": "default",
                                                            "decimals": null
                                                        },
                                                        "formatType": "numberFormatFromNumberType"
                                                    },
                                                    "type": "quantitative",
                                                    "field": "home_gym_worldwide",
                                                    "scale": {
                                                        "type": "linear",
                                                        "zero": false
                                                    },
                                                    "format": {
                                                        "type": "default",
                                                        "decimals": null
                                                    },
                                                    "aggregate": "sum",
                                                    "formatType": "numberFormatFromNumberType"
                                                },
                                                "color": {
                                                    "type": "nominal",
                                                    "datum": "'Home Gym'",
                                                    "scale": {
                                                        "range": [
                                                            "#CC8BFF"
                                                        ],
                                                        "domain": [
                                                            "'Home Gym'"
                                                        ]
                                                    }
                                                }
                                            },
                                            "transform": []
                                        }
                                    ]
                                }
                            ],
                            "resolve": {
                                "scale": {
                                    "color": "independent"
                                }
                            }
                        },
                        {
                            "layer": [
                                {
                                    "layer": [
                                        {
                                            "mark": {
                                                "clip": true,
                                                "type": "line",
                                                "color": "#83AFF6",
                                                "tooltip": true
                                            },
                                            "encoding": {
                                                "x": {
                                                    "sort": "ascending",
                                                    "type": "nominal",
                                                    "field": "month",
                                                    "scale": {
                                                        "type": "linear",
                                                        "zero": false
                                                    }
                                                },
                                                "y": {
                                                    "axis": {
                                                        "title": null
                                                    },
                                                    "type": "quantitative",
                                                    "field": "gym_workout_worldwide",
                                                    "scale": {
                                                        "zero": false
                                                    },
                                                    "format": {
                                                        "type": "default",
                                                        "decimals": null
                                                    },
                                                    "aggregate": "sum",
                                                    "formatType": "numberFormatFromNumberType"
                                                },
                                                "color": {
                                                    "type": "nominal",
                                                    "datum": "'Gym Workout'",
                                                    "scale": {
                                                        "range": [
                                                            "#83AFF6"
                                                        ],
                                                        "domain": [
                                                            "'Gym Workout'"
                                                        ]
                                                    }
                                                }
                                            },
                                            "transform": []
                                        }
                                    ]
                                }
                            ],
                            "resolve": {
                                "scale": {
                                    "color": "independent"
                                }
                            }
                        }
                    ],
                    "title": "",
                    "config": {
                        "legend": {
                            "disable": false
                        }
                    },
                    "$schema": "https://vega.github.io/schema/vega-lite/v5.json",
                    "resolve": {
                        "scale": {
                            "y": "independent"
                        }
                    },
                    "encoding": {},
                    "usermeta": {
                        "seriesNames": [
                            "'Home Workout'",
                            "'Home Gym'",
                            "'Gym Workout'"
                        ],
                        "seriesOrder": [
                            0,
                            2,
                            1
                        ],
                        "specSchemaVersion": 2,
                        "tooltipDefaultMode": true
                    }
                },
                "cell_id": "63831b7f16da4f8da994759d09c058ee",
                "deepnote_cell_type": "visualization"
            },
            "source": "import inspect\n_dntk.DeepnoteChart(three_keywords, \"\"\"{\"layer\":[{\"layer\":[{\"layer\":[{\"mark\":{\"clip\":true,\"type\":\"line\",\"color\":\"#2266D3\",\"tooltip\":true},\"encoding\":{\"x\":{\"sort\":\"ascending\",\"type\":\"nominal\",\"field\":\"month\",\"scale\":{\"type\":\"linear\",\"zero\":false}},\"y\":{\"axis\":{\"format\":{\"type\":\"default\",\"decimals\":null},\"formatType\":\"numberFormatFromNumberType\"},\"type\":\"quantitative\",\"field\":\"home_workout_worldwide\",\"scale\":{\"type\":\"linear\",\"zero\":false},\"format\":{\"type\":\"default\",\"decimals\":null},\"aggregate\":\"sum\",\"formatType\":\"numberFormatFromNumberType\"},\"color\":{\"type\":\"nominal\",\"datum\":\"'Home Workout'\",\"scale\":{\"range\":[\"#2266D3\"],\"domain\":[\"'Home Workout'\"]}}},\"transform\":[]}]},{\"layer\":[{\"mark\":{\"clip\":true,\"type\":\"line\",\"color\":\"#CC8BFF\",\"tooltip\":true},\"encoding\":{\"x\":{\"sort\":\"ascending\",\"type\":\"nominal\",\"field\":\"month\",\"scale\":{\"type\":\"linear\",\"zero\":false}},\"y\":{\"axis\":{\"format\":{\"type\":\"default\",\"decimals\":null},\"formatType\":\"numberFormatFromNumberType\"},\"type\":\"quantitative\",\"field\":\"home_gym_worldwide\",\"scale\":{\"type\":\"linear\",\"zero\":false},\"format\":{\"type\":\"default\",\"decimals\":null},\"aggregate\":\"sum\",\"formatType\":\"numberFormatFromNumberType\"},\"color\":{\"type\":\"nominal\",\"datum\":\"'Home Gym'\",\"scale\":{\"range\":[\"#CC8BFF\"],\"domain\":[\"'Home Gym'\"]}}},\"transform\":[]}]}],\"resolve\":{\"scale\":{\"color\":\"independent\"}}},{\"layer\":[{\"layer\":[{\"mark\":{\"clip\":true,\"type\":\"line\",\"color\":\"#83AFF6\",\"tooltip\":true},\"encoding\":{\"x\":{\"sort\":\"ascending\",\"type\":\"nominal\",\"field\":\"month\",\"scale\":{\"type\":\"linear\",\"zero\":false}},\"y\":{\"axis\":{\"title\":null},\"type\":\"quantitative\",\"field\":\"gym_workout_worldwide\",\"scale\":{\"zero\":false},\"format\":{\"type\":\"default\",\"decimals\":null},\"aggregate\":\"sum\",\"formatType\":\"numberFormatFromNumberType\"},\"color\":{\"type\":\"nominal\",\"datum\":\"'Gym Workout'\",\"scale\":{\"range\":[\"#83AFF6\"],\"domain\":[\"'Gym Workout'\"]}}},\"transform\":[]}]}],\"resolve\":{\"scale\":{\"color\":\"independent\"}}}],\"title\":\"\",\"config\":{\"legend\":{\"disable\":false}},\"$schema\":\"https://vega.github.io/schema/vega-lite/v5.json\",\"resolve\":{\"scale\":{\"y\":\"independent\"}},\"encoding\":{},\"usermeta\":{\"seriesNames\":[\"'Home Workout'\",\"'Home Gym'\",\"'Gym Workout'\"],\"seriesOrder\":[0,2,1],\"specSchemaVersion\":2,\"tooltipDefaultMode\":true}}\"\"\", **({'attach_selection': True} if 'attach_selection' in inspect.signature(_dntk.DeepnoteChart).parameters else {}), **({'filters': '[]'} if 'filters' in inspect.signature(_dntk.DeepnoteChart).parameters else {}))",
            "block_group": "fe7e454044e14fa39b3d4ead8a9697bb",
            "execution_count": 4,
            "outputs": [
                {
                    "output_type": "execute_result",
                    "execution_count": 4,
                    "data": {
                        "application/vnd.vega.v5+json": {
                            "$schema": "https://vega.github.io/schema/vega/v5.json",
                            "data": [
                                {
                                    "name": "legend_size_0_store"
                                },
                                {
                                    "name": "legend_color_0_store"
                                },
                                {
                                    "name": "interval_selection_store"
                                },
                                {
                                    "name": "legend_size_1_store"
                                },
                                {
                                    "name": "legend_color_1_store"
                                },
                                {
                                    "name": "legend_size_2_store"
                                },
                                {
                                    "name": "legend_color_2_store"
                                },
                                {
                                    "name": "source_0",
                                    "values": [
                                        {
                                            "month": "2018-03",
                                            "sum_gym_workout_worldwide": 16,
                                            "sum_home_workout_worldwide": 12,
                                            "sum_home_gym_worldwide": 10
                                        },
                                        {
                                            "month": "2018-04",
                                            "sum_gym_workout_worldwide": 18,
                                            "sum_home_workout_worldwide": 12,
                                            "sum_home_gym_worldwide": 10
                                        },
                                        {
                                            "month": "2018-05",
                                            "sum_gym_workout_worldwide": 16,
                                            "sum_home_workout_worldwide": 13,
                                            "sum_home_gym_worldwide": 9
                                        },
                                        {
                                            "month": "2018-06",
                                            "sum_gym_workout_worldwide": 17,
                                            "sum_home_workout_worldwide": 12,
                                            "sum_home_gym_worldwide": 9
                                        },
                                        {
                                            "month": "2018-07",
                                            "sum_gym_workout_worldwide": 17,
                                            "sum_home_workout_worldwide": 12,
                                            "sum_home_gym_worldwide": 9
                                        },
                                        {
                                            "month": "2018-08",
                                            "sum_gym_workout_worldwide": 17,
                                            "sum_home_workout_worldwide": 12,
                                            "sum_home_gym_worldwide": 9
                                        },
                                        {
                                            "month": "2018-09",
                                            "sum_gym_workout_worldwide": 17,
                                            "sum_home_workout_worldwide": 11,
                                            "sum_home_gym_worldwide": 10
                                        },
                                        {
                                            "month": "2018-10",
                                            "sum_gym_workout_worldwide": 15,
                                            "sum_home_workout_worldwide": 11,
                                            "sum_home_gym_worldwide": 9
                                        },
                                        {
                                            "month": "2018-11",
                                            "sum_gym_workout_worldwide": 15,
                                            "sum_home_workout_worldwide": 11,
                                            "sum_home_gym_worldwide": 9
                                        },
                                        {
                                            "month": "2018-12",
                                            "sum_gym_workout_worldwide": 13,
                                            "sum_home_workout_worldwide": 11,
                                            "sum_home_gym_worldwide": 10
                                        },
                                        {
                                            "month": "2019-01",
                                            "sum_gym_workout_worldwide": 21,
                                            "sum_home_workout_worldwide": 16,
                                            "sum_home_gym_worldwide": 13
                                        },
                                        {
                                            "month": "2019-02",
                                            "sum_gym_workout_worldwide": 17,
                                            "sum_home_workout_worldwide": 14,
                                            "sum_home_gym_worldwide": 10
                                        },
                                        {
                                            "month": "2019-03",
                                            "sum_gym_workout_worldwide": 17,
                                            "sum_home_workout_worldwide": 13,
                                            "sum_home_gym_worldwide": 10
                                        },
                                        {
                                            "month": "2019-04",
                                            "sum_gym_workout_worldwide": 15,
                                            "sum_home_workout_worldwide": 11,
                                            "sum_home_gym_worldwide": 9
                                        },
                                        {
                                            "month": "2019-05",
                                            "sum_gym_workout_worldwide": 16,
                                            "sum_home_workout_worldwide": 12,
                                            "sum_home_gym_worldwide": 9
                                        },
                                        {
                                            "month": "2019-06",
                                            "sum_gym_workout_worldwide": 16,
                                            "sum_home_workout_worldwide": 13,
                                            "sum_home_gym_worldwide": 9
                                        },
                                        {
                                            "month": "2019-07",
                                            "sum_gym_workout_worldwide": 17,
                                            "sum_home_workout_worldwide": 14,
                                            "sum_home_gym_worldwide": 10
                                        },
                                        {
                                            "month": "2019-08",
                                            "sum_gym_workout_worldwide": 17,
                                            "sum_home_workout_worldwide": 12,
                                            "sum_home_gym_worldwide": 9
                                        },
                                        {
                                            "month": "2019-09",
                                            "sum_gym_workout_worldwide": 16,
                                            "sum_home_workout_worldwide": 11,
                                            "sum_home_gym_worldwide": 10
                                        },
                                        {
                                            "month": "2019-10",
                                            "sum_gym_workout_worldwide": 15,
                                            "sum_home_workout_worldwide": 10,
                                            "sum_home_gym_worldwide": 9
                                        },
                                        {
                                            "month": "2019-11",
                                            "sum_gym_workout_worldwide": 16,
                                            "sum_home_workout_worldwide": 11,
                                            "sum_home_gym_worldwide": 10
                                        },
                                        {
                                            "month": "2019-12",
                                            "sum_gym_workout_worldwide": 14,
                                            "sum_home_workout_worldwide": 11,
                                            "sum_home_gym_worldwide": 10
                                        },
                                        {
                                            "month": "2020-01",
                                            "sum_gym_workout_worldwide": 21,
                                            "sum_home_workout_worldwide": 15,
                                            "sum_home_gym_worldwide": 12
                                        },
                                        {
                                            "month": "2020-02",
                                            "sum_gym_workout_worldwide": 18,
                                            "sum_home_workout_worldwide": 13,
                                            "sum_home_gym_worldwide": 11
                                        },
                                        {
                                            "month": "2020-03",
                                            "sum_gym_workout_worldwide": 17,
                                            "sum_home_workout_worldwide": 13,
                                            "sum_home_gym_worldwide": 11
                                        },
                                        {
                                            "month": "2020-04",
                                            "sum_gym_workout_worldwide": 13,
                                            "sum_home_workout_worldwide": 82,
                                            "sum_home_gym_worldwide": 34
                                        },
                                        {
                                            "month": "2020-05",
                                            "sum_gym_workout_worldwide": 10,
                                            "sum_home_workout_worldwide": 44,
                                            "sum_home_gym_worldwide": 25
                                        },
                                        {
                                            "month": "2020-06",
                                            "sum_gym_workout_worldwide": 11,
                                            "sum_home_workout_worldwide": 29,
                                            "sum_home_gym_worldwide": 23
                                        },
                                        {
                                            "month": "2020-07",
                                            "sum_gym_workout_worldwide": 13,
                                            "sum_home_workout_worldwide": 28,
                                            "sum_home_gym_worldwide": 23
                                        },
                                        {
                                            "month": "2020-08",
                                            "sum_gym_workout_worldwide": 13,
                                            "sum_home_workout_worldwide": 23,
                                            "sum_home_gym_worldwide": 23
                                        },
                                        {
                                            "month": "2020-09",
                                            "sum_gym_workout_worldwide": 15,
                                            "sum_home_workout_worldwide": 21,
                                            "sum_home_gym_worldwide": 20
                                        },
                                        {
                                            "month": "2020-10",
                                            "sum_gym_workout_worldwide": 14,
                                            "sum_home_workout_worldwide": 19,
                                            "sum_home_gym_worldwide": 18
                                        },
                                        {
                                            "month": "2020-11",
                                            "sum_gym_workout_worldwide": 12,
                                            "sum_home_workout_worldwide": 20,
                                            "sum_home_gym_worldwide": 19
                                        },
                                        {
                                            "month": "2020-12",
                                            "sum_gym_workout_worldwide": 14,
                                            "sum_home_workout_worldwide": 20,
                                            "sum_home_gym_worldwide": 20
                                        },
                                        {
                                            "month": "2021-01",
                                            "sum_gym_workout_worldwide": 16,
                                            "sum_home_workout_worldwide": 31,
                                            "sum_home_gym_worldwide": 25
                                        },
                                        {
                                            "month": "2021-02",
                                            "sum_gym_workout_worldwide": 14,
                                            "sum_home_workout_worldwide": 22,
                                            "sum_home_gym_worldwide": 18
                                        },
                                        {
                                            "month": "2021-03",
                                            "sum_gym_workout_worldwide": 15,
                                            "sum_home_workout_worldwide": 19,
                                            "sum_home_gym_worldwide": 17
                                        },
                                        {
                                            "month": "2021-04",
                                            "sum_gym_workout_worldwide": 14,
                                            "sum_home_workout_worldwide": 18,
                                            "sum_home_gym_worldwide": 17
                                        },
                                        {
                                            "month": "2021-05",
                                            "sum_gym_workout_worldwide": 14,
                                            "sum_home_workout_worldwide": 19,
                                            "sum_home_gym_worldwide": 17
                                        },
                                        {
                                            "month": "2021-06",
                                            "sum_gym_workout_worldwide": 14,
                                            "sum_home_workout_worldwide": 17,
                                            "sum_home_gym_worldwide": 14
                                        },
                                        {
                                            "month": "2021-07",
                                            "sum_gym_workout_worldwide": 16,
                                            "sum_home_workout_worldwide": 16,
                                            "sum_home_gym_worldwide": 14
                                        },
                                        {
                                            "month": "2021-08",
                                            "sum_gym_workout_worldwide": 16,
                                            "sum_home_workout_worldwide": 14,
                                            "sum_home_gym_worldwide": 15
                                        },
                                        {
                                            "month": "2021-09",
                                            "sum_gym_workout_worldwide": 15,
                                            "sum_home_workout_worldwide": 14,
                                            "sum_home_gym_worldwide": 13
                                        },
                                        {
                                            "month": "2021-10",
                                            "sum_gym_workout_worldwide": 15,
                                            "sum_home_workout_worldwide": 12,
                                            "sum_home_gym_worldwide": 13
                                        },
                                        {
                                            "month": "2021-11",
                                            "sum_gym_workout_worldwide": 14,
                                            "sum_home_workout_worldwide": 12,
                                            "sum_home_gym_worldwide": 14
                                        },
                                        {
                                            "month": "2021-12",
                                            "sum_gym_workout_worldwide": 13,
                                            "sum_home_workout_worldwide": 12,
                                            "sum_home_gym_worldwide": 14
                                        },
                                        {
                                            "month": "2022-01",
                                            "sum_gym_workout_worldwide": 19,
                                            "sum_home_workout_worldwide": 21,
                                            "sum_home_gym_worldwide": 21
                                        },
                                        {
                                            "month": "2022-02",
                                            "sum_gym_workout_worldwide": 19,
                                            "sum_home_workout_worldwide": 14,
                                            "sum_home_gym_worldwide": 14
                                        },
                                        {
                                            "month": "2022-03",
                                            "sum_gym_workout_worldwide": 19,
                                            "sum_home_workout_worldwide": 13,
                                            "sum_home_gym_worldwide": 13
                                        },
                                        {
                                            "month": "2022-04",
                                            "sum_gym_workout_worldwide": 17,
                                            "sum_home_workout_worldwide": 14,
                                            "sum_home_gym_worldwide": 12
                                        },
                                        {
                                            "month": "2022-05",
                                            "sum_gym_workout_worldwide": 17,
                                            "sum_home_workout_worldwide": 13,
                                            "sum_home_gym_worldwide": 12
                                        },
                                        {
                                            "month": "2022-06",
                                            "sum_gym_workout_worldwide": 20,
                                            "sum_home_workout_worldwide": 14,
                                            "sum_home_gym_worldwide": 11
                                        },
                                        {
                                            "month": "2022-07",
                                            "sum_gym_workout_worldwide": 20,
                                            "sum_home_workout_worldwide": 14,
                                            "sum_home_gym_worldwide": 12
                                        },
                                        {
                                            "month": "2022-08",
                                            "sum_gym_workout_worldwide": 20,
                                            "sum_home_workout_worldwide": 13,
                                            "sum_home_gym_worldwide": 12
                                        },
                                        {
                                            "month": "2022-09",
                                            "sum_gym_workout_worldwide": 19,
                                            "sum_home_workout_worldwide": 11,
                                            "sum_home_gym_worldwide": 11
                                        },
                                        {
                                            "month": "2022-10",
                                            "sum_gym_workout_worldwide": 16,
                                            "sum_home_workout_worldwide": 11,
                                            "sum_home_gym_worldwide": 11
                                        },
                                        {
                                            "month": "2022-11",
                                            "sum_gym_workout_worldwide": 18,
                                            "sum_home_workout_worldwide": 11,
                                            "sum_home_gym_worldwide": 12
                                        },
                                        {
                                            "month": "2022-12",
                                            "sum_gym_workout_worldwide": 16,
                                            "sum_home_workout_worldwide": 11,
                                            "sum_home_gym_worldwide": 11
                                        },
                                        {
                                            "month": "2023-01",
                                            "sum_gym_workout_worldwide": 22,
                                            "sum_home_workout_worldwide": 17,
                                            "sum_home_gym_worldwide": 15
                                        },
                                        {
                                            "month": "2023-02",
                                            "sum_gym_workout_worldwide": 21,
                                            "sum_home_workout_worldwide": 14,
                                            "sum_home_gym_worldwide": 12
                                        },
                                        {
                                            "month": "2023-03",
                                            "sum_gym_workout_worldwide": 19,
                                            "sum_home_workout_worldwide": 13,
                                            "sum_home_gym_worldwide": 12
                                        }
                                    ]
                                },
                                {
                                    "name": "source_0_x_domain_month",
                                    "values": [
                                        {
                                            "month": "2018-03"
                                        },
                                        {
                                            "month": "2018-04"
                                        },
                                        {
                                            "month": "2018-05"
                                        },
                                        {
                                            "month": "2018-06"
                                        },
                                        {
                                            "month": "2018-07"
                                        },
                                        {
                                            "month": "2018-08"
                                        },
                                        {
                                            "month": "2018-09"
                                        },
                                        {
                                            "month": "2018-10"
                                        },
                                        {
                                            "month": "2018-11"
                                        },
                                        {
                                            "month": "2018-12"
                                        },
                                        {
                                            "month": "2019-01"
                                        },
                                        {
                                            "month": "2019-02"
                                        },
                                        {
                                            "month": "2019-03"
                                        },
                                        {
                                            "month": "2019-04"
                                        },
                                        {
                                            "month": "2019-05"
                                        },
                                        {
                                            "month": "2019-06"
                                        },
                                        {
                                            "month": "2019-07"
                                        },
                                        {
                                            "month": "2019-08"
                                        },
                                        {
                                            "month": "2019-09"
                                        },
                                        {
                                            "month": "2019-10"
                                        },
                                        {
                                            "month": "2019-11"
                                        },
                                        {
                                            "month": "2019-12"
                                        },
                                        {
                                            "month": "2020-01"
                                        },
                                        {
                                            "month": "2020-02"
                                        },
                                        {
                                            "month": "2020-03"
                                        },
                                        {
                                            "month": "2020-04"
                                        },
                                        {
                                            "month": "2020-05"
                                        },
                                        {
                                            "month": "2020-06"
                                        },
                                        {
                                            "month": "2020-07"
                                        },
                                        {
                                            "month": "2020-08"
                                        },
                                        {
                                            "month": "2020-09"
                                        },
                                        {
                                            "month": "2020-10"
                                        },
                                        {
                                            "month": "2020-11"
                                        },
                                        {
                                            "month": "2020-12"
                                        },
                                        {
                                            "month": "2021-01"
                                        },
                                        {
                                            "month": "2021-02"
                                        },
                                        {
                                            "month": "2021-03"
                                        },
                                        {
                                            "month": "2021-04"
                                        },
                                        {
                                            "month": "2021-05"
                                        },
                                        {
                                            "month": "2021-06"
                                        },
                                        {
                                            "month": "2021-07"
                                        },
                                        {
                                            "month": "2021-08"
                                        },
                                        {
                                            "month": "2021-09"
                                        },
                                        {
                                            "month": "2021-10"
                                        },
                                        {
                                            "month": "2021-11"
                                        },
                                        {
                                            "month": "2021-12"
                                        },
                                        {
                                            "month": "2022-01"
                                        },
                                        {
                                            "month": "2022-02"
                                        },
                                        {
                                            "month": "2022-03"
                                        },
                                        {
                                            "month": "2022-04"
                                        },
                                        {
                                            "month": "2022-05"
                                        },
                                        {
                                            "month": "2022-06"
                                        },
                                        {
                                            "month": "2022-07"
                                        },
                                        {
                                            "month": "2022-08"
                                        },
                                        {
                                            "month": "2022-09"
                                        },
                                        {
                                            "month": "2022-10"
                                        },
                                        {
                                            "month": "2022-11"
                                        },
                                        {
                                            "month": "2022-12"
                                        },
                                        {
                                            "month": "2023-01"
                                        },
                                        {
                                            "month": "2023-02"
                                        },
                                        {
                                            "month": "2023-03"
                                        }
                                    ]
                                },
                                {
                                    "name": "source_0_layer_1_y_domain_sum_gym_workout_worldwide",
                                    "values": [
                                        {
                                            "min": 10,
                                            "max": 22
                                        }
                                    ]
                                }
                            ],
                            "signals": [
                                {
                                    "name": "width",
                                    "init": "isFinite(containerSize()[0]) ? containerSize()[0] : 200",
                                    "on": [
                                        {
                                            "events": "window:resize",
                                            "update": "isFinite(containerSize()[0]) ? containerSize()[0] : 200"
                                        }
                                    ]
                                },
                                {
                                    "name": "height",
                                    "init": "isFinite(containerSize()[1]) ? containerSize()[1] : 200",
                                    "on": [
                                        {
                                            "events": "window:resize",
                                            "update": "isFinite(containerSize()[1]) ? containerSize()[1] : 200"
                                        }
                                    ]
                                },
                                {
                                    "name": "unit",
                                    "value": {},
                                    "on": [
                                        {
                                            "events": "pointermove",
                                            "update": "isTuple(group()) ? group() : unit"
                                        }
                                    ]
                                },
                                {
                                    "name": "legend_size_0",
                                    "update": "vlSelectionResolve(\"legend_size_0_store\", \"union\", true, true)"
                                },
                                {
                                    "name": "legend_color_0",
                                    "update": "vlSelectionResolve(\"legend_color_0_store\", \"union\", true, true)"
                                },
                                {
                                    "name": "interval_selection",
                                    "update": "vlSelectionResolve(\"interval_selection_store\", \"union\")"
                                },
                                {
                                    "name": "legend_size_1",
                                    "update": "vlSelectionResolve(\"legend_size_1_store\", \"union\", true, true)"
                                },
                                {
                                    "name": "legend_color_1",
                                    "update": "vlSelectionResolve(\"legend_color_1_store\", \"union\", true, true)"
                                },
                                {
                                    "name": "legend_size_2",
                                    "update": "vlSelectionResolve(\"legend_size_2_store\", \"union\", true, true)"
                                },
                                {
                                    "name": "legend_color_2",
                                    "update": "vlSelectionResolve(\"legend_color_2_store\", \"union\", true, true)"
                                },
                                {
                                    "name": "legend_size_0_tuple",
                                    "on": [
                                        {
                                            "events": [
                                                {
                                                    "source": "scope",
                                                    "type": "click"
                                                }
                                            ],
                                            "update": "datum && item().mark.marktype !== 'group' && indexof(item().mark.role, 'legend') < 0 && indexof(item().mark.name, 'interval_selection_brush') < 0 ? {unit: \"layer_0_layer_0_layer_0\", fields: legend_size_0_tuple_fields, values: []} : null",
                                            "force": true
                                        },
                                        {
                                            "events": [
                                                {
                                                    "source": "view",
                                                    "type": "dblclick"
                                                }
                                            ],
                                            "update": "null"
                                        }
                                    ]
                                },
                                {
                                    "name": "legend_size_0_tuple_fields",
                                    "value": []
                                },
                                {
                                    "name": "legend_size_0_toggle",
                                    "value": false,
                                    "on": [
                                        {
                                            "events": [
                                                {
                                                    "source": "scope",
                                                    "type": "click"
                                                }
                                            ],
                                            "update": "true"
                                        },
                                        {
                                            "events": [
                                                {
                                                    "source": "view",
                                                    "type": "dblclick"
                                                }
                                            ],
                                            "update": "false"
                                        }
                                    ]
                                },
                                {
                                    "name": "legend_size_0_modify",
                                    "on": [
                                        {
                                            "events": {
                                                "signal": "legend_size_0_tuple"
                                            },
                                            "update": "modify(\"legend_size_0_store\", legend_size_0_toggle ? null : legend_size_0_tuple, legend_size_0_toggle ? null : true, legend_size_0_toggle ? legend_size_0_tuple : null)"
                                        }
                                    ]
                                },
                                {
                                    "name": "legend_color_0_tuple",
                                    "on": [
                                        {
                                            "events": [
                                                {
                                                    "source": "scope",
                                                    "type": "click"
                                                }
                                            ],
                                            "update": "datum && item().mark.marktype !== 'group' && indexof(item().mark.role, 'legend') < 0 && indexof(item().mark.name, 'interval_selection_brush') < 0 ? {unit: \"layer_0_layer_0_layer_0\", fields: legend_color_0_tuple_fields, values: []} : null",
                                            "force": true
                                        },
                                        {
                                            "events": [
                                                {
                                                    "source": "view",
                                                    "type": "dblclick"
                                                }
                                            ],
                                            "update": "null"
                                        }
                                    ]
                                },
                                {
                                    "name": "legend_color_0_tuple_fields",
                                    "value": []
                                },
                                {
                                    "name": "legend_color_0_toggle",
                                    "value": false,
                                    "on": [
                                        {
                                            "events": [
                                                {
                                                    "source": "scope",
                                                    "type": "click"
                                                }
                                            ],
                                            "update": "true"
                                        },
                                        {
                                            "events": [
                                                {
                                                    "source": "view",
                                                    "type": "dblclick"
                                                }
                                            ],
                                            "update": "false"
                                        }
                                    ]
                                },
                                {
                                    "name": "legend_color_0_modify",
                                    "on": [
                                        {
                                            "events": {
                                                "signal": "legend_color_0_tuple"
                                            },
                                            "update": "modify(\"legend_color_0_store\", legend_color_0_toggle ? null : legend_color_0_tuple, legend_color_0_toggle ? null : true, legend_color_0_toggle ? legend_color_0_tuple : null)"
                                        }
                                    ]
                                },
                                {
                                    "name": "interval_selection_x",
                                    "value": [],
                                    "on": [
                                        {
                                            "events": {
                                                "source": "scope",
                                                "filter": [
                                                    "!event.item || event.item.mark.name !== \"interval_selection_brush\""
                                                ],
                                                "type": "pointerdown"
                                            },
                                            "update": "[x(unit), x(unit)]"
                                        },
                                        {
                                            "events": {
                                                "source": "window",
                                                "between": [
                                                    {
                                                        "source": "scope",
                                                        "filter": [
                                                            "!event.item || event.item.mark.name !== \"interval_selection_brush\""
                                                        ],
                                                        "type": "pointerdown"
                                                    },
                                                    {
                                                        "source": "window",
                                                        "type": "pointerup"
                                                    }
                                                ],
                                                "type": "pointermove",
                                                "consume": true
                                            },
                                            "update": "[interval_selection_x[0], clamp(x(unit), 0, width)]"
                                        },
                                        {
                                            "events": {
                                                "signal": "interval_selection_scale_trigger"
                                            },
                                            "update": "[0, 0]"
                                        },
                                        {
                                            "events": [
                                                {
                                                    "source": "view",
                                                    "type": "dblclick"
                                                }
                                            ],
                                            "update": "[0, 0]"
                                        },
                                        {
                                            "events": {
                                                "signal": "interval_selection_translate_delta"
                                            },
                                            "update": "clampRange(panLinear(interval_selection_translate_anchor.extent_x, interval_selection_translate_delta.x / span(interval_selection_translate_anchor.extent_x)), 0, width)"
                                        },
                                        {
                                            "events": {
                                                "signal": "interval_selection_zoom_delta"
                                            },
                                            "update": "clampRange(zoomLinear(interval_selection_x, interval_selection_zoom_anchor.x, interval_selection_zoom_delta), 0, width)"
                                        }
                                    ]
                                },
                                {
                                    "name": "interval_selection_month",
                                    "on": [
                                        {
                                            "events": {
                                                "signal": "interval_selection_x"
                                            },
                                            "update": "interval_selection_x[0] === interval_selection_x[1] ? null : invert(\"x\", interval_selection_x)"
                                        }
                                    ]
                                },
                                {
                                    "name": "interval_selection_scale_trigger",
                                    "value": {},
                                    "on": [
                                        {
                                            "events": [
                                                {
                                                    "scale": "x"
                                                }
                                            ],
                                            "update": "(!isArray(interval_selection_month) || (invert(\"x\", interval_selection_x)[0] === interval_selection_month[0] && invert(\"x\", interval_selection_x)[1] === interval_selection_month[1])) ? interval_selection_scale_trigger : {}"
                                        }
                                    ]
                                },
                                {
                                    "name": "interval_selection_tuple",
                                    "on": [
                                        {
                                            "events": [
                                                {
                                                    "signal": "interval_selection_month"
                                                }
                                            ],
                                            "update": "interval_selection_month ? {unit: \"layer_0_layer_0_layer_0\", fields: interval_selection_tuple_fields, values: [interval_selection_month]} : null"
                                        }
                                    ]
                                },
                                {
                                    "name": "interval_selection_tuple_fields",
                                    "value": [
                                        {
                                            "field": "month",
                                            "channel": "x",
                                            "type": "E"
                                        }
                                    ]
                                },
                                {
                                    "name": "interval_selection_translate_anchor",
                                    "value": {},
                                    "on": [
                                        {
                                            "events": [
                                                {
                                                    "source": "scope",
                                                    "markname": "interval_selection_brush",
                                                    "type": "pointerdown"
                                                }
                                            ],
                                            "update": "{x: x(unit), y: y(unit), extent_x: slice(interval_selection_x)}"
                                        }
                                    ]
                                },
                                {
                                    "name": "interval_selection_translate_delta",
                                    "value": {},
                                    "on": [
                                        {
                                            "events": [
                                                {
                                                    "source": "window",
                                                    "between": [
                                                        {
                                                            "source": "scope",
                                                            "markname": "interval_selection_brush",
                                                            "type": "pointerdown"
                                                        },
                                                        {
                                                            "source": "window",
                                                            "type": "pointerup"
                                                        }
                                                    ],
                                                    "consume": true,
                                                    "type": "pointermove"
                                                }
                                            ],
                                            "update": "{x: interval_selection_translate_anchor.x - x(unit), y: interval_selection_translate_anchor.y - y(unit)}"
                                        }
                                    ]
                                },
                                {
                                    "name": "interval_selection_zoom_anchor",
                                    "on": [
                                        {
                                            "events": [
                                                {
                                                    "source": "scope",
                                                    "markname": "interval_selection_brush",
                                                    "type": "wheel",
                                                    "consume": true
                                                }
                                            ],
                                            "update": "{x: x(unit), y: y(unit)}"
                                        }
                                    ]
                                },
                                {
                                    "name": "interval_selection_zoom_delta",
                                    "on": [
                                        {
                                            "events": [
                                                {
                                                    "source": "scope",
                                                    "markname": "interval_selection_brush",
                                                    "type": "wheel",
                                                    "consume": true
                                                }
                                            ],
                                            "update": "pow(1.001, event.deltaY * pow(16, event.deltaMode))",
                                            "force": true
                                        }
                                    ]
                                },
                                {
                                    "name": "interval_selection_modify",
                                    "on": [
                                        {
                                            "events": {
                                                "signal": "interval_selection_tuple"
                                            },
                                            "update": "modify(\"interval_selection_store\", interval_selection_tuple, true)"
                                        }
                                    ]
                                },
                                {
                                    "name": "legend_size_1_tuple",
                                    "on": [
                                        {
                                            "events": [
                                                {
                                                    "source": "scope",
                                                    "type": "click"
                                                }
                                            ],
                                            "update": "datum && item().mark.marktype !== 'group' && indexof(item().mark.role, 'legend') < 0 ? {unit: \"layer_0_layer_1_layer_0\", fields: legend_size_1_tuple_fields, values: []} : null",
                                            "force": true
                                        },
                                        {
                                            "events": [
                                                {
                                                    "source": "view",
                                                    "type": "dblclick"
                                                }
                                            ],
                                            "update": "null"
                                        }
                                    ]
                                },
                                {
                                    "name": "legend_size_1_tuple_fields",
                                    "value": []
                                },
                                {
                                    "name": "legend_size_1_toggle",
                                    "value": false,
                                    "on": [
                                        {
                                            "events": [
                                                {
                                                    "source": "scope",
                                                    "type": "click"
                                                }
                                            ],
                                            "update": "true"
                                        },
                                        {
                                            "events": [
                                                {
                                                    "source": "view",
                                                    "type": "dblclick"
                                                }
                                            ],
                                            "update": "false"
                                        }
                                    ]
                                },
                                {
                                    "name": "legend_size_1_modify",
                                    "on": [
                                        {
                                            "events": {
                                                "signal": "legend_size_1_tuple"
                                            },
                                            "update": "modify(\"legend_size_1_store\", legend_size_1_toggle ? null : legend_size_1_tuple, legend_size_1_toggle ? null : true, legend_size_1_toggle ? legend_size_1_tuple : null)"
                                        }
                                    ]
                                },
                                {
                                    "name": "legend_color_1_tuple",
                                    "on": [
                                        {
                                            "events": [
                                                {
                                                    "source": "scope",
                                                    "type": "click"
                                                }
                                            ],
                                            "update": "datum && item().mark.marktype !== 'group' && indexof(item().mark.role, 'legend') < 0 ? {unit: \"layer_0_layer_1_layer_0\", fields: legend_color_1_tuple_fields, values: []} : null",
                                            "force": true
                                        },
                                        {
                                            "events": [
                                                {
                                                    "source": "view",
                                                    "type": "dblclick"
                                                }
                                            ],
                                            "update": "null"
                                        }
                                    ]
                                },
                                {
                                    "name": "legend_color_1_tuple_fields",
                                    "value": []
                                },
                                {
                                    "name": "legend_color_1_toggle",
                                    "value": false,
                                    "on": [
                                        {
                                            "events": [
                                                {
                                                    "source": "scope",
                                                    "type": "click"
                                                }
                                            ],
                                            "update": "true"
                                        },
                                        {
                                            "events": [
                                                {
                                                    "source": "view",
                                                    "type": "dblclick"
                                                }
                                            ],
                                            "update": "false"
                                        }
                                    ]
                                },
                                {
                                    "name": "legend_color_1_modify",
                                    "on": [
                                        {
                                            "events": {
                                                "signal": "legend_color_1_tuple"
                                            },
                                            "update": "modify(\"legend_color_1_store\", legend_color_1_toggle ? null : legend_color_1_tuple, legend_color_1_toggle ? null : true, legend_color_1_toggle ? legend_color_1_tuple : null)"
                                        }
                                    ]
                                },
                                {
                                    "name": "legend_size_2_tuple",
                                    "on": [
                                        {
                                            "events": [
                                                {
                                                    "source": "scope",
                                                    "type": "click"
                                                }
                                            ],
                                            "update": "datum && item().mark.marktype !== 'group' && indexof(item().mark.role, 'legend') < 0 ? {unit: \"layer_1_layer_0_layer_0\", fields: legend_size_2_tuple_fields, values: []} : null",
                                            "force": true
                                        },
                                        {
                                            "events": [
                                                {
                                                    "source": "view",
                                                    "type": "dblclick"
                                                }
                                            ],
                                            "update": "null"
                                        }
                                    ]
                                },
                                {
                                    "name": "legend_size_2_tuple_fields",
                                    "value": []
                                },
                                {
                                    "name": "legend_size_2_toggle",
                                    "value": false,
                                    "on": [
                                        {
                                            "events": [
                                                {
                                                    "source": "scope",
                                                    "type": "click"
                                                }
                                            ],
                                            "update": "true"
                                        },
                                        {
                                            "events": [
                                                {
                                                    "source": "view",
                                                    "type": "dblclick"
                                                }
                                            ],
                                            "update": "false"
                                        }
                                    ]
                                },
                                {
                                    "name": "legend_size_2_modify",
                                    "on": [
                                        {
                                            "events": {
                                                "signal": "legend_size_2_tuple"
                                            },
                                            "update": "modify(\"legend_size_2_store\", legend_size_2_toggle ? null : legend_size_2_tuple, legend_size_2_toggle ? null : true, legend_size_2_toggle ? legend_size_2_tuple : null)"
                                        }
                                    ]
                                },
                                {
                                    "name": "legend_color_2_tuple",
                                    "on": [
                                        {
                                            "events": [
                                                {
                                                    "source": "scope",
                                                    "type": "click"
                                                }
                                            ],
                                            "update": "datum && item().mark.marktype !== 'group' && indexof(item().mark.role, 'legend') < 0 ? {unit: \"layer_1_layer_0_layer_0\", fields: legend_color_2_tuple_fields, values: []} : null",
                                            "force": true
                                        },
                                        {
                                            "events": [
                                                {
                                                    "source": "view",
                                                    "type": "dblclick"
                                                }
                                            ],
                                            "update": "null"
                                        }
                                    ]
                                },
                                {
                                    "name": "legend_color_2_tuple_fields",
                                    "value": []
                                },
                                {
                                    "name": "legend_color_2_toggle",
                                    "value": false,
                                    "on": [
                                        {
                                            "events": [
                                                {
                                                    "source": "scope",
                                                    "type": "click"
                                                }
                                            ],
                                            "update": "true"
                                        },
                                        {
                                            "events": [
                                                {
                                                    "source": "view",
                                                    "type": "dblclick"
                                                }
                                            ],
                                            "update": "false"
                                        }
                                    ]
                                },
                                {
                                    "name": "legend_color_2_modify",
                                    "on": [
                                        {
                                            "events": {
                                                "signal": "legend_color_2_tuple"
                                            },
                                            "update": "modify(\"legend_color_2_store\", legend_color_2_toggle ? null : legend_color_2_tuple, legend_color_2_toggle ? null : true, legend_color_2_toggle ? legend_color_2_tuple : null)"
                                        }
                                    ]
                                }
                            ],
                            "marks": [
                                {
                                    "type": "rect",
                                    "name": "interval_selection_brush_bg",
                                    "encode": {
                                        "update": {
                                            "x2": [
                                                {
                                                    "signal": "interval_selection_x[1]",
                                                    "test": "data(\"interval_selection_store\").length && data(\"interval_selection_store\")[0].unit === \"layer_0_layer_0_layer_0\""
                                                },
                                                {
                                                    "value": 0
                                                }
                                            ],
                                            "x": [
                                                {
                                                    "signal": "interval_selection_x[0]",
                                                    "test": "data(\"interval_selection_store\").length && data(\"interval_selection_store\")[0].unit === \"layer_0_layer_0_layer_0\""
                                                },
                                                {
                                                    "value": 0
                                                }
                                            ],
                                            "y2": [
                                                {
                                                    "field": {
                                                        "signal": null,
                                                        "datum": null,
                                                        "group": "height",
                                                        "parent": null
                                                    },
                                                    "test": "data(\"interval_selection_store\").length && data(\"interval_selection_store\")[0].unit === \"layer_0_layer_0_layer_0\""
                                                },
                                                {
                                                    "value": 0
                                                }
                                            ],
                                            "y": [
                                                {
                                                    "value": 0,
                                                    "test": "data(\"interval_selection_store\").length && data(\"interval_selection_store\")[0].unit === \"layer_0_layer_0_layer_0\""
                                                },
                                                {
                                                    "value": 0
                                                }
                                            ]
                                        },
                                        "enter": {
                                            "fillOpacity": {
                                                "value": 0.125
                                            },
                                            "fill": {
                                                "value": "#333"
                                            }
                                        }
                                    },
                                    "clip": true
                                },
                                {
                                    "type": "line",
                                    "name": "layer_0_layer_0_layer_0_marks",
                                    "from": {
                                        "data": "source_0"
                                    },
                                    "sort": {
                                        "field": "x"
                                    },
                                    "encode": {
                                        "update": {
                                            "defined": {
                                                "signal": "isValid(datum[\"sum_home_workout_worldwide\"]) && isFinite(+datum[\"sum_home_workout_worldwide\"])"
                                            },
                                            "tooltip": {
                                                "signal": "{\"month\": isValid(datum[\"month\"]) ? datum[\"month\"] : \"\"+datum[\"month\"], \"Sum of home_workout_worldwide\": numberFormatFromNumberType(datum[\"sum_home_workout_worldwide\"], {\"decimals\":null,\"type\":\"default\"})}"
                                            },
                                            "opacity": [
                                                {
                                                    "value": 1,
                                                    "test": "(!length(data(\"legend_size_0_store\")) || vlSelectionTest(\"legend_size_0_store\", datum)) && (!length(data(\"legend_color_0_store\")) || vlSelectionTest(\"legend_color_0_store\", datum))"
                                                },
                                                {
                                                    "value": 0.2
                                                }
                                            ],
                                            "x": {
                                                "field": "month",
                                                "scale": "x"
                                            },
                                            "stroke": {
                                                "value": "'Home Workout'",
                                                "scale": "layer_0_layer_0_color"
                                            },
                                            "y": {
                                                "field": "sum_home_workout_worldwide",
                                                "scale": "layer_0_y"
                                            }
                                        }
                                    },
                                    "style": [
                                        "line"
                                    ],
                                    "interactive": true,
                                    "clip": true
                                },
                                {
                                    "type": "rect",
                                    "name": "interval_selection_brush",
                                    "encode": {
                                        "update": {
                                            "x2": [
                                                {
                                                    "signal": "interval_selection_x[1]",
                                                    "test": "data(\"interval_selection_store\").length && data(\"interval_selection_store\")[0].unit === \"layer_0_layer_0_layer_0\""
                                                },
                                                {
                                                    "value": 0
                                                }
                                            ],
                                            "x": [
                                                {
                                                    "signal": "interval_selection_x[0]",
                                                    "test": "data(\"interval_selection_store\").length && data(\"interval_selection_store\")[0].unit === \"layer_0_layer_0_layer_0\""
                                                },
                                                {
                                                    "value": 0
                                                }
                                            ],
                                            "stroke": [
                                                {
                                                    "value": "white",
                                                    "test": "interval_selection_x[0] !== interval_selection_x[1]"
                                                },
                                                {}
                                            ],
                                            "y2": [
                                                {
                                                    "field": {
                                                        "signal": null,
                                                        "datum": null,
                                                        "group": "height",
                                                        "parent": null
                                                    },
                                                    "test": "data(\"interval_selection_store\").length && data(\"interval_selection_store\")[0].unit === \"layer_0_layer_0_layer_0\""
                                                },
                                                {
                                                    "value": 0
                                                }
                                            ],
                                            "y": [
                                                {
                                                    "value": 0,
                                                    "test": "data(\"interval_selection_store\").length && data(\"interval_selection_store\")[0].unit === \"layer_0_layer_0_layer_0\""
                                                },
                                                {
                                                    "value": 0
                                                }
                                            ]
                                        },
                                        "enter": {
                                            "cursor": {
                                                "value": "move"
                                            },
                                            "fill": {
                                                "value": "transparent"
                                            }
                                        }
                                    },
                                    "clip": true
                                },
                                {
                                    "type": "line",
                                    "name": "layer_0_layer_1_layer_0_marks",
                                    "from": {
                                        "data": "source_0"
                                    },
                                    "sort": {
                                        "field": "x"
                                    },
                                    "encode": {
                                        "update": {
                                            "stroke": {
                                                "value": "'Home Gym'",
                                                "scale": "layer_0_layer_1_color"
                                            },
                                            "defined": {
                                                "signal": "isValid(datum[\"sum_home_gym_worldwide\"]) && isFinite(+datum[\"sum_home_gym_worldwide\"])"
                                            },
                                            "opacity": [
                                                {
                                                    "value": 1,
                                                    "test": "(!length(data(\"legend_size_1_store\")) || vlSelectionTest(\"legend_size_1_store\", datum)) && (!length(data(\"legend_color_1_store\")) || vlSelectionTest(\"legend_color_1_store\", datum))"
                                                },
                                                {
                                                    "value": 0.2
                                                }
                                            ],
                                            "x": {
                                                "field": "month",
                                                "scale": "x"
                                            },
                                            "y": {
                                                "field": "sum_home_gym_worldwide",
                                                "scale": "layer_0_y"
                                            },
                                            "tooltip": {
                                                "signal": "{\"month\": isValid(datum[\"month\"]) ? datum[\"month\"] : \"\"+datum[\"month\"], \"Sum of home_gym_worldwide\": numberFormatFromNumberType(datum[\"sum_home_gym_worldwide\"], {\"decimals\":null,\"type\":\"default\"})}"
                                            }
                                        }
                                    },
                                    "style": [
                                        "line"
                                    ],
                                    "clip": true,
                                    "interactive": true
                                },
                                {
                                    "type": "line",
                                    "name": "layer_1_layer_0_layer_0_marks",
                                    "from": {
                                        "data": "source_0"
                                    },
                                    "sort": {
                                        "field": "x"
                                    },
                                    "encode": {
                                        "update": {
                                            "x": {
                                                "field": "month",
                                                "scale": "x"
                                            },
                                            "y": {
                                                "field": "sum_gym_workout_worldwide",
                                                "scale": "layer_1_y"
                                            },
                                            "defined": {
                                                "signal": "isValid(datum[\"sum_gym_workout_worldwide\"]) && isFinite(+datum[\"sum_gym_workout_worldwide\"])"
                                            },
                                            "tooltip": {
                                                "signal": "{\"month\": isValid(datum[\"month\"]) ? datum[\"month\"] : \"\"+datum[\"month\"], \"Sum of gym_workout_worldwide\": numberFormatFromNumberType(datum[\"sum_gym_workout_worldwide\"], {\"decimals\":null,\"type\":\"default\"})}"
                                            },
                                            "stroke": {
                                                "value": "'Gym Workout'",
                                                "scale": "layer_1_layer_0_color"
                                            },
                                            "opacity": [
                                                {
                                                    "value": 1,
                                                    "test": "(!length(data(\"legend_size_2_store\")) || vlSelectionTest(\"legend_size_2_store\", datum)) && (!length(data(\"legend_color_2_store\")) || vlSelectionTest(\"legend_color_2_store\", datum))"
                                                },
                                                {
                                                    "value": 0.2
                                                }
                                            ]
                                        }
                                    },
                                    "interactive": true,
                                    "style": [
                                        "line"
                                    ],
                                    "clip": true
                                }
                            ],
                            "scales": [
                                {
                                    "name": "x",
                                    "type": "point",
                                    "domain": {
                                        "data": "source_0_x_domain_month",
                                        "field": "month",
                                        "sort": true
                                    },
                                    "range": [
                                        0,
                                        {
                                            "signal": "width"
                                        }
                                    ],
                                    "padding": 0.5
                                },
                                {
                                    "name": "layer_0_y",
                                    "type": "linear",
                                    "domain": {
                                        "data": "source_0",
                                        "fields": [
                                            "sum_home_workout_worldwide",
                                            "sum_home_gym_worldwide"
                                        ]
                                    },
                                    "range": [
                                        {
                                            "signal": "height"
                                        },
                                        0
                                    ],
                                    "zero": false,
                                    "nice": true
                                },
                                {
                                    "name": "layer_0_layer_0_color",
                                    "type": "ordinal",
                                    "domain": [
                                        "'Home Workout'"
                                    ],
                                    "range": [
                                        "#2266D3"
                                    ]
                                },
                                {
                                    "name": "layer_0_layer_1_color",
                                    "type": "ordinal",
                                    "domain": [
                                        "'Home Gym'"
                                    ],
                                    "range": [
                                        "#CC8BFF"
                                    ]
                                },
                                {
                                    "name": "layer_1_y",
                                    "type": "linear",
                                    "domain": [
                                        {
                                            "signal": "(data(\"source_0_layer_1_y_domain_sum_gym_workout_worldwide\")[0] || {}).min"
                                        },
                                        {
                                            "signal": "(data(\"source_0_layer_1_y_domain_sum_gym_workout_worldwide\")[0] || {}).max"
                                        }
                                    ],
                                    "range": [
                                        {
                                            "signal": "height"
                                        },
                                        0
                                    ],
                                    "nice": true,
                                    "zero": false
                                },
                                {
                                    "name": "layer_1_layer_0_color",
                                    "type": "ordinal",
                                    "domain": [
                                        "'Gym Workout'"
                                    ],
                                    "range": [
                                        "#83AFF6"
                                    ]
                                }
                            ],
                            "axes": [
                                {
                                    "scale": "layer_0_y",
                                    "aria": false,
                                    "grid": true,
                                    "tickCount": 5,
                                    "gridScale": "x",
                                    "minExtent": 0,
                                    "ticks": false,
                                    "orient": "left",
                                    "labels": false,
                                    "maxExtent": 0,
                                    "zindex": 0,
                                    "domain": false
                                },
                                {
                                    "scale": "x",
                                    "labelAlign": "right",
                                    "labelBaseline": "middle",
                                    "title": "month",
                                    "orient": "bottom",
                                    "zindex": 0,
                                    "labelAngle": 270,
                                    "grid": false
                                },
                                {
                                    "scale": "layer_0_y",
                                    "tickCount": 5,
                                    "encode": {
                                        "labels": {
                                            "update": {
                                                "text": {
                                                    "signal": "numberFormatFromNumberType(datum.value, {\"decimals\":null,\"type\":\"default\"})"
                                                }
                                            }
                                        }
                                    },
                                    "grid": false,
                                    "labelOverlap": true,
                                    "zindex": 0,
                                    "title": "Sum of home_workout_worldwide, Sum of home_gym_worldwide",
                                    "orient": "left"
                                },
                                {
                                    "scale": "layer_1_y",
                                    "tickCount": 5,
                                    "zindex": 0,
                                    "grid": false,
                                    "orient": "right",
                                    "labelOverlap": true
                                }
                            ],
                            "usermeta": {
                                "seriesNames": [
                                    "'Home Workout'",
                                    "'Home Gym'",
                                    "'Gym Workout'"
                                ],
                                "specSchemaVersion": 2,
                                "seriesOrder": [
                                    0,
                                    2,
                                    1
                                ],
                                "tooltipDefaultMode": true,
                                "outputMetadata": {
                                    "rowLimitExceeded": false,
                                    "rowLimit": 5000,
                                    "filteredDataframeSize": 61,
                                    "columns": [
                                        {
                                            "name": "month",
                                            "nativeType": "object",
                                            "distinctValues": [
                                                "2018-03",
                                                "2018-04",
                                                "2018-05",
                                                "2018-06",
                                                "2018-07",
                                                "2018-08",
                                                "2018-09",
                                                "2018-10",
                                                "2018-11",
                                                "2018-12",
                                                "2019-01",
                                                "2019-02",
                                                "2019-03",
                                                "2019-04",
                                                "2019-05",
                                                "2019-06",
                                                "2019-07",
                                                "2019-08",
                                                "2019-09",
                                                "2019-10",
                                                "2019-11",
                                                "2019-12",
                                                "2020-01",
                                                "2020-02",
                                                "2020-03",
                                                "2020-04",
                                                "2020-05",
                                                "2020-06",
                                                "2020-07",
                                                "2020-08"
                                            ]
                                        },
                                        {
                                            "name": "home_workout_worldwide",
                                            "nativeType": "int64",
                                            "distinctValues": [
                                                10,
                                                11,
                                                12,
                                                13,
                                                14,
                                                15,
                                                16,
                                                17,
                                                18,
                                                19,
                                                20,
                                                21,
                                                22,
                                                23,
                                                28,
                                                29,
                                                31,
                                                44,
                                                82
                                            ]
                                        },
                                        {
                                            "name": "gym_workout_worldwide",
                                            "nativeType": "int64",
                                            "distinctValues": [
                                                10,
                                                11,
                                                12,
                                                13,
                                                14,
                                                15,
                                                16,
                                                17,
                                                18,
                                                19,
                                                20,
                                                21,
                                                22
                                            ]
                                        },
                                        {
                                            "name": "home_gym_worldwide",
                                            "nativeType": "int64",
                                            "distinctValues": [
                                                9,
                                                10,
                                                11,
                                                12,
                                                13,
                                                14,
                                                15,
                                                17,
                                                18,
                                                19,
                                                20,
                                                21,
                                                23,
                                                25,
                                                34
                                            ]
                                        }
                                    ]
                                }
                            },
                            "config": {
                                "customFormatTypes": true,
                                "legend": {
                                    "disable": false
                                }
                            },
                            "style": "cell",
                            "background": "white",
                            "autosize": {
                                "type": "fit",
                                "contains": "padding"
                            },
                            "padding": 5,
                            "legends": [
                                {
                                    "stroke": "layer_0_layer_0_color",
                                    "symbolType": "stroke",
                                    "encode": {
                                        "symbols": {
                                            "update": {
                                                "opacity": {
                                                    "value": 1
                                                }
                                            }
                                        }
                                    }
                                },
                                {
                                    "stroke": "layer_0_layer_1_color",
                                    "symbolType": "stroke",
                                    "encode": {
                                        "symbols": {
                                            "update": {
                                                "opacity": {
                                                    "value": 1
                                                }
                                            }
                                        }
                                    }
                                },
                                {
                                    "stroke": "layer_1_layer_0_color",
                                    "symbolType": "stroke",
                                    "encode": {
                                        "symbols": {
                                            "update": {
                                                "opacity": {
                                                    "value": 1
                                                }
                                            }
                                        }
                                    }
                                }
                            ]
                        },
                        "text/plain": "<deepnote_toolkit.chart.deepnote_chart.DeepnoteChart at 0x7fcfa5e5df30>"
                    },
                    "metadata": {}
                }
            ],
            "outputs_reference": "s3:deepnote-cell-outputs-production/81732600-308c-4909-816e-689aa22af55f"
        },
        {
            "cell_type": "markdown",
            "metadata": {
                "formattedRanges": [],
                "cell_id": "80e1b5c3e06341f8b123ee850e2ce10c",
                "deepnote_cell_type": "text-cell-h2"
            },
            "source": "## Peak Search Keyword Wordwide During Period Covid-19 Pandemic",
            "block_group": "0a94b424583643f5a33da6ca5e45b763"
        },
        {
            "cell_type": "code",
            "metadata": {
                "source_hash": "b938b861",
                "executionTime": null,
                "lastExecutedAt": null,
                "execution_start": 1759029352138,
                "outputsMetadata": {
                    "0": {
                        "type": "dataFrame",
                        "height": 501,
                        "tableState": {
                            "customFilter": {
                                "id": "b305a398-e972-419b-8ce4-55923a8cba27",
                                "const": {
                                    "type": "boolean",
                                    "valid": true,
                                    "value": true
                                },
                                "nodeType": "const"
                            }
                        }
                    }
                },
                "execution_millis": 0,
                "lastScheduledRunId": null,
                "deepnote_table_state": {
                    "sortBy": [],
                    "filters": [],
                    "pageSize": 10,
                    "pageIndex": 0,
                    "columnOrder": [
                        "month",
                        "home_workout_worldwide",
                        "gym_workout_worldwide",
                        "home_gym_worldwide"
                    ],
                    "hiddenColumnIds": [],
                    "columnDisplayNames": [],
                    "conditionalFilters": [],
                    "cellFormattingRules": [],
                    "wrappedTextColumnIds": []
                },
                "executionCancelledAt": null,
                "execution_context_id": "580fb81c-8d6f-4804-9cb5-7036727bb28b",
                "lastExecutedByKernel": null,
                "deepnote_table_loading": false,
                "lastSuccessfullyExecutedCode": null,
                "cell_id": "e29b2d43a3d24fd386019013b5313a2d",
                "deepnote_cell_type": "code"
            },
            "source": "# peak_covid receives a dataframe with only the data from the period related to the covid-19 pandemic\npeak_covid = three_keywords[three_keywords['month'].str[:4].isin(['2021','2022','2023'])]\npeak_covid",
            "block_group": "a0f12a8931634477a62a97847ff4cace",
            "execution_count": 5,
            "outputs": [
                {
                    "output_type": "execute_result",
                    "execution_count": 5,
                    "data": {
                        "application/vnd.deepnote.dataframe.v3+json": {
                            "column_count": 4,
                            "columns": [
                                {
                                    "name": "month",
                                    "dtype": "object",
                                    "stats": {
                                        "unique_count": 27,
                                        "nan_count": 0,
                                        "min": null,
                                        "max": null,
                                        "histogram": null,
                                        "categories": [
                                            {
                                                "name": "2021-01",
                                                "count": 1
                                            },
                                            {
                                                "name": "2021-02",
                                                "count": 1
                                            },
                                            {
                                                "name": "25 others",
                                                "count": 25
                                            }
                                        ]
                                    }
                                },
                                {
                                    "name": "home_workout_worldwide",
                                    "dtype": "int64",
                                    "stats": {
                                        "unique_count": 11,
                                        "nan_count": 0,
                                        "min": "11",
                                        "max": "31",
                                        "histogram": [
                                            {
                                                "bin_start": 11,
                                                "bin_end": 13,
                                                "count": 7
                                            },
                                            {
                                                "bin_start": 13,
                                                "bin_end": 15,
                                                "count": 11
                                            },
                                            {
                                                "bin_start": 15,
                                                "bin_end": 17,
                                                "count": 1
                                            },
                                            {
                                                "bin_start": 17,
                                                "bin_end": 19,
                                                "count": 3
                                            },
                                            {
                                                "bin_start": 19,
                                                "bin_end": 21,
                                                "count": 2
                                            },
                                            {
                                                "bin_start": 21,
                                                "bin_end": 23,
                                                "count": 2
                                            },
                                            {
                                                "bin_start": 23,
                                                "bin_end": 25,
                                                "count": 0
                                            },
                                            {
                                                "bin_start": 25,
                                                "bin_end": 27,
                                                "count": 0
                                            },
                                            {
                                                "bin_start": 27,
                                                "bin_end": 29,
                                                "count": 0
                                            },
                                            {
                                                "bin_start": 29,
                                                "bin_end": 31,
                                                "count": 1
                                            }
                                        ],
                                        "categories": null
                                    }
                                },
                                {
                                    "name": "gym_workout_worldwide",
                                    "dtype": "int64",
                                    "stats": {
                                        "unique_count": 10,
                                        "nan_count": 0,
                                        "min": "13",
                                        "max": "22",
                                        "histogram": [
                                            {
                                                "bin_start": 13,
                                                "bin_end": 13.9,
                                                "count": 1
                                            },
                                            {
                                                "bin_start": 13.9,
                                                "bin_end": 14.8,
                                                "count": 5
                                            },
                                            {
                                                "bin_start": 14.8,
                                                "bin_end": 15.7,
                                                "count": 3
                                            },
                                            {
                                                "bin_start": 15.7,
                                                "bin_end": 16.6,
                                                "count": 5
                                            },
                                            {
                                                "bin_start": 16.6,
                                                "bin_end": 17.5,
                                                "count": 2
                                            },
                                            {
                                                "bin_start": 17.5,
                                                "bin_end": 18.4,
                                                "count": 1
                                            },
                                            {
                                                "bin_start": 18.4,
                                                "bin_end": 19.3,
                                                "count": 5
                                            },
                                            {
                                                "bin_start": 19.3,
                                                "bin_end": 20.2,
                                                "count": 3
                                            },
                                            {
                                                "bin_start": 20.2,
                                                "bin_end": 21.1,
                                                "count": 1
                                            },
                                            {
                                                "bin_start": 21.1,
                                                "bin_end": 22,
                                                "count": 1
                                            }
                                        ],
                                        "categories": null
                                    }
                                },
                                {
                                    "name": "home_gym_worldwide",
                                    "dtype": "int64",
                                    "stats": {
                                        "unique_count": 9,
                                        "nan_count": 0,
                                        "min": "11",
                                        "max": "25",
                                        "histogram": [
                                            {
                                                "bin_start": 11,
                                                "bin_end": 12.4,
                                                "count": 11
                                            },
                                            {
                                                "bin_start": 12.4,
                                                "bin_end": 13.8,
                                                "count": 3
                                            },
                                            {
                                                "bin_start": 13.8,
                                                "bin_end": 15.2,
                                                "count": 7
                                            },
                                            {
                                                "bin_start": 15.2,
                                                "bin_end": 16.6,
                                                "count": 0
                                            },
                                            {
                                                "bin_start": 16.6,
                                                "bin_end": 18,
                                                "count": 3
                                            },
                                            {
                                                "bin_start": 18,
                                                "bin_end": 19.4,
                                                "count": 1
                                            },
                                            {
                                                "bin_start": 19.4,
                                                "bin_end": 20.799999999999997,
                                                "count": 0
                                            },
                                            {
                                                "bin_start": 20.799999999999997,
                                                "bin_end": 22.2,
                                                "count": 1
                                            },
                                            {
                                                "bin_start": 22.2,
                                                "bin_end": 23.6,
                                                "count": 0
                                            },
                                            {
                                                "bin_start": 23.6,
                                                "bin_end": 25,
                                                "count": 1
                                            }
                                        ],
                                        "categories": null
                                    }
                                },
                                {
                                    "name": "_deepnote_index_column",
                                    "dtype": "int64"
                                }
                            ],
                            "row_count": 27,
                            "preview_row_count": 27,
                            "rows": [
                                {
                                    "month": "2021-01",
                                    "home_workout_worldwide": 31,
                                    "gym_workout_worldwide": 16,
                                    "home_gym_worldwide": 25,
                                    "_deepnote_index_column": 34
                                },
                                {
                                    "month": "2021-02",
                                    "home_workout_worldwide": 22,
                                    "gym_workout_worldwide": 14,
                                    "home_gym_worldwide": 18,
                                    "_deepnote_index_column": 35
                                },
                                {
                                    "month": "2021-03",
                                    "home_workout_worldwide": 19,
                                    "gym_workout_worldwide": 15,
                                    "home_gym_worldwide": 17,
                                    "_deepnote_index_column": 36
                                },
                                {
                                    "month": "2021-04",
                                    "home_workout_worldwide": 18,
                                    "gym_workout_worldwide": 14,
                                    "home_gym_worldwide": 17,
                                    "_deepnote_index_column": 37
                                },
                                {
                                    "month": "2021-05",
                                    "home_workout_worldwide": 19,
                                    "gym_workout_worldwide": 14,
                                    "home_gym_worldwide": 17,
                                    "_deepnote_index_column": 38
                                },
                                {
                                    "month": "2021-06",
                                    "home_workout_worldwide": 17,
                                    "gym_workout_worldwide": 14,
                                    "home_gym_worldwide": 14,
                                    "_deepnote_index_column": 39
                                },
                                {
                                    "month": "2021-07",
                                    "home_workout_worldwide": 16,
                                    "gym_workout_worldwide": 16,
                                    "home_gym_worldwide": 14,
                                    "_deepnote_index_column": 40
                                },
                                {
                                    "month": "2021-08",
                                    "home_workout_worldwide": 14,
                                    "gym_workout_worldwide": 16,
                                    "home_gym_worldwide": 15,
                                    "_deepnote_index_column": 41
                                },
                                {
                                    "month": "2021-09",
                                    "home_workout_worldwide": 14,
                                    "gym_workout_worldwide": 15,
                                    "home_gym_worldwide": 13,
                                    "_deepnote_index_column": 42
                                },
                                {
                                    "month": "2021-10",
                                    "home_workout_worldwide": 12,
                                    "gym_workout_worldwide": 15,
                                    "home_gym_worldwide": 13,
                                    "_deepnote_index_column": 43
                                }
                            ],
                            "type": "dataframe"
                        },
                        "text/plain": "      month  home_workout_worldwide  gym_workout_worldwide  home_gym_worldwide\n34  2021-01                      31                     16                  25\n35  2021-02                      22                     14                  18\n36  2021-03                      19                     15                  17\n37  2021-04                      18                     14                  17\n38  2021-05                      19                     14                  17\n39  2021-06                      17                     14                  14\n40  2021-07                      16                     16                  14\n41  2021-08                      14                     16                  15\n42  2021-09                      14                     15                  13\n43  2021-10                      12                     15                  13\n44  2021-11                      12                     14                  14\n45  2021-12                      12                     13                  14\n46  2022-01                      21                     19                  21\n47  2022-02                      14                     19                  14\n48  2022-03                      13                     19                  13\n49  2022-04                      14                     17                  12\n50  2022-05                      13                     17                  12\n51  2022-06                      14                     20                  11\n52  2022-07                      14                     20                  12\n53  2022-08                      13                     20                  12\n54  2022-09                      11                     19                  11\n55  2022-10                      11                     16                  11\n56  2022-11                      11                     18                  12\n57  2022-12                      11                     16                  11\n58  2023-01                      17                     22                  15\n59  2023-02                      14                     21                  12\n60  2023-03                      13                     19                  12",
                        "text/html": "<div>\n<style scoped>\n    .dataframe tbody tr th:only-of-type {\n        vertical-align: middle;\n    }\n\n    .dataframe tbody tr th {\n        vertical-align: top;\n    }\n\n    .dataframe thead th {\n        text-align: right;\n    }\n</style>\n<table border=\"1\" class=\"dataframe\">\n  <thead>\n    <tr style=\"text-align: right;\">\n      <th></th>\n      <th>month</th>\n      <th>home_workout_worldwide</th>\n      <th>gym_workout_worldwide</th>\n      <th>home_gym_worldwide</th>\n    </tr>\n  </thead>\n  <tbody>\n    <tr>\n      <th>34</th>\n      <td>2021-01</td>\n      <td>31</td>\n      <td>16</td>\n      <td>25</td>\n    </tr>\n    <tr>\n      <th>35</th>\n      <td>2021-02</td>\n      <td>22</td>\n      <td>14</td>\n      <td>18</td>\n    </tr>\n    <tr>\n      <th>36</th>\n      <td>2021-03</td>\n      <td>19</td>\n      <td>15</td>\n      <td>17</td>\n    </tr>\n    <tr>\n      <th>37</th>\n      <td>2021-04</td>\n      <td>18</td>\n      <td>14</td>\n      <td>17</td>\n    </tr>\n    <tr>\n      <th>38</th>\n      <td>2021-05</td>\n      <td>19</td>\n      <td>14</td>\n      <td>17</td>\n    </tr>\n    <tr>\n      <th>39</th>\n      <td>2021-06</td>\n      <td>17</td>\n      <td>14</td>\n      <td>14</td>\n    </tr>\n    <tr>\n      <th>40</th>\n      <td>2021-07</td>\n      <td>16</td>\n      <td>16</td>\n      <td>14</td>\n    </tr>\n    <tr>\n      <th>41</th>\n      <td>2021-08</td>\n      <td>14</td>\n      <td>16</td>\n      <td>15</td>\n    </tr>\n    <tr>\n      <th>42</th>\n      <td>2021-09</td>\n      <td>14</td>\n      <td>15</td>\n      <td>13</td>\n    </tr>\n    <tr>\n      <th>43</th>\n      <td>2021-10</td>\n      <td>12</td>\n      <td>15</td>\n      <td>13</td>\n    </tr>\n    <tr>\n      <th>44</th>\n      <td>2021-11</td>\n      <td>12</td>\n      <td>14</td>\n      <td>14</td>\n    </tr>\n    <tr>\n      <th>45</th>\n      <td>2021-12</td>\n      <td>12</td>\n      <td>13</td>\n      <td>14</td>\n    </tr>\n    <tr>\n      <th>46</th>\n      <td>2022-01</td>\n      <td>21</td>\n      <td>19</td>\n      <td>21</td>\n    </tr>\n    <tr>\n      <th>47</th>\n      <td>2022-02</td>\n      <td>14</td>\n      <td>19</td>\n      <td>14</td>\n    </tr>\n    <tr>\n      <th>48</th>\n      <td>2022-03</td>\n      <td>13</td>\n      <td>19</td>\n      <td>13</td>\n    </tr>\n    <tr>\n      <th>49</th>\n      <td>2022-04</td>\n      <td>14</td>\n      <td>17</td>\n      <td>12</td>\n    </tr>\n    <tr>\n      <th>50</th>\n      <td>2022-05</td>\n      <td>13</td>\n      <td>17</td>\n      <td>12</td>\n    </tr>\n    <tr>\n      <th>51</th>\n      <td>2022-06</td>\n      <td>14</td>\n      <td>20</td>\n      <td>11</td>\n    </tr>\n    <tr>\n      <th>52</th>\n      <td>2022-07</td>\n      <td>14</td>\n      <td>20</td>\n      <td>12</td>\n    </tr>\n    <tr>\n      <th>53</th>\n      <td>2022-08</td>\n      <td>13</td>\n      <td>20</td>\n      <td>12</td>\n    </tr>\n    <tr>\n      <th>54</th>\n      <td>2022-09</td>\n      <td>11</td>\n      <td>19</td>\n      <td>11</td>\n    </tr>\n    <tr>\n      <th>55</th>\n      <td>2022-10</td>\n      <td>11</td>\n      <td>16</td>\n      <td>11</td>\n    </tr>\n    <tr>\n      <th>56</th>\n      <td>2022-11</td>\n      <td>11</td>\n      <td>18</td>\n      <td>12</td>\n    </tr>\n    <tr>\n      <th>57</th>\n      <td>2022-12</td>\n      <td>11</td>\n      <td>16</td>\n      <td>11</td>\n    </tr>\n    <tr>\n      <th>58</th>\n      <td>2023-01</td>\n      <td>17</td>\n      <td>22</td>\n      <td>15</td>\n    </tr>\n    <tr>\n      <th>59</th>\n      <td>2023-02</td>\n      <td>14</td>\n      <td>21</td>\n      <td>12</td>\n    </tr>\n    <tr>\n      <th>60</th>\n      <td>2023-03</td>\n      <td>13</td>\n      <td>19</td>\n      <td>12</td>\n    </tr>\n  </tbody>\n</table>\n</div>"
                    },
                    "metadata": {}
                }
            ],
            "outputs_reference": "s3:deepnote-cell-outputs-production/7592c473-0aaf-47c0-96de-77326c804e09",
            "content_dependencies": null
        },
        {
            "cell_type": "code",
            "metadata": {
                "source_hash": "3c88d73b",
                "execution_start": 1759029352188,
                "execution_millis": 2,
                "execution_context_id": "580fb81c-8d6f-4804-9cb5-7036727bb28b",
                "deepnote_variable_name": "peak_covid",
                "deepnote_config_collapsed": true,
                "deepnote_visualization_spec": {
                    "layer": [
                        {
                            "layer": [
                                {
                                    "layer": [
                                        {
                                            "mark": {
                                                "clip": true,
                                                "type": "line",
                                                "color": "#2266D3",
                                                "tooltip": true
                                            },
                                            "encoding": {
                                                "x": {
                                                    "sort": null,
                                                    "type": "nominal",
                                                    "field": "month",
                                                    "scale": {
                                                        "type": "linear",
                                                        "zero": false
                                                    }
                                                },
                                                "y": {
                                                    "axis": {
                                                        "format": {
                                                            "type": "default",
                                                            "decimals": null
                                                        },
                                                        "formatType": "numberFormatFromNumberType"
                                                    },
                                                    "type": "quantitative",
                                                    "field": "home_workout_worldwide",
                                                    "scale": {
                                                        "type": "linear",
                                                        "zero": false
                                                    },
                                                    "format": {
                                                        "type": "default",
                                                        "decimals": null
                                                    },
                                                    "aggregate": "sum",
                                                    "formatType": "numberFormatFromNumberType"
                                                },
                                                "color": {
                                                    "type": "nominal",
                                                    "datum": "home_workout_worldwide",
                                                    "scale": {
                                                        "range": [
                                                            "#2266D3"
                                                        ],
                                                        "domain": [
                                                            "home_workout_worldwide"
                                                        ]
                                                    }
                                                }
                                            },
                                            "transform": []
                                        }
                                    ]
                                },
                                {
                                    "layer": [
                                        {
                                            "mark": {
                                                "clip": true,
                                                "type": "line",
                                                "color": "#83AFF6",
                                                "tooltip": true
                                            },
                                            "encoding": {
                                                "x": {
                                                    "sort": null,
                                                    "type": "nominal",
                                                    "field": "month",
                                                    "scale": {
                                                        "type": "linear",
                                                        "zero": false
                                                    }
                                                },
                                                "y": {
                                                    "axis": {
                                                        "format": {
                                                            "type": "default",
                                                            "decimals": null
                                                        },
                                                        "formatType": "numberFormatFromNumberType"
                                                    },
                                                    "type": "quantitative",
                                                    "field": "gym_workout_worldwide",
                                                    "scale": {
                                                        "type": "linear",
                                                        "zero": false
                                                    },
                                                    "format": {
                                                        "type": "default",
                                                        "decimals": null
                                                    },
                                                    "aggregate": "sum",
                                                    "formatType": "numberFormatFromNumberType"
                                                },
                                                "color": {
                                                    "type": "nominal",
                                                    "datum": "gym_workout_worldwide",
                                                    "scale": {
                                                        "range": [
                                                            "#83AFF6"
                                                        ],
                                                        "domain": [
                                                            "gym_workout_worldwide"
                                                        ]
                                                    }
                                                }
                                            },
                                            "transform": []
                                        }
                                    ]
                                },
                                {
                                    "layer": [
                                        {
                                            "mark": {
                                                "clip": true,
                                                "type": "line",
                                                "color": "#CC8BFF",
                                                "tooltip": true
                                            },
                                            "encoding": {
                                                "x": {
                                                    "sort": null,
                                                    "type": "nominal",
                                                    "field": "month",
                                                    "scale": {
                                                        "type": "linear",
                                                        "zero": false
                                                    }
                                                },
                                                "y": {
                                                    "axis": {
                                                        "format": {
                                                            "type": "default",
                                                            "decimals": null
                                                        },
                                                        "formatType": "numberFormatFromNumberType"
                                                    },
                                                    "type": "quantitative",
                                                    "field": "home_gym_worldwide",
                                                    "scale": {
                                                        "type": "linear",
                                                        "zero": false
                                                    },
                                                    "format": {
                                                        "type": "default",
                                                        "decimals": null
                                                    },
                                                    "aggregate": "sum",
                                                    "formatType": "numberFormatFromNumberType"
                                                },
                                                "color": {
                                                    "type": "nominal",
                                                    "datum": "home_gym_worldwide",
                                                    "scale": {
                                                        "range": [
                                                            "#CC8BFF"
                                                        ],
                                                        "domain": [
                                                            "home_gym_worldwide"
                                                        ]
                                                    }
                                                }
                                            },
                                            "transform": []
                                        }
                                    ]
                                }
                            ],
                            "resolve": {
                                "scale": {
                                    "color": "independent"
                                }
                            }
                        }
                    ],
                    "title": "",
                    "config": {
                        "legend": {
                            "disable": false
                        }
                    },
                    "$schema": "https://vega.github.io/schema/vega-lite/v5.json",
                    "encoding": {},
                    "usermeta": {
                        "seriesNames": [
                            "home_workout_worldwide",
                            "gym_workout_worldwide",
                            "home_gym_worldwide"
                        ],
                        "seriesOrder": [
                            0,
                            1,
                            2
                        ],
                        "specSchemaVersion": 2,
                        "tooltipDefaultMode": true
                    }
                },
                "cell_id": "dd1a4a28773d44ff81c3d8b3fef399ed",
                "deepnote_cell_type": "visualization"
            },
            "source": "import inspect\n_dntk.DeepnoteChart(peak_covid, \"\"\"{\"layer\":[{\"layer\":[{\"layer\":[{\"mark\":{\"clip\":true,\"type\":\"line\",\"color\":\"#2266D3\",\"tooltip\":true},\"encoding\":{\"x\":{\"sort\":null,\"type\":\"nominal\",\"field\":\"month\",\"scale\":{\"type\":\"linear\",\"zero\":false}},\"y\":{\"axis\":{\"format\":{\"type\":\"default\",\"decimals\":null},\"formatType\":\"numberFormatFromNumberType\"},\"type\":\"quantitative\",\"field\":\"home_workout_worldwide\",\"scale\":{\"type\":\"linear\",\"zero\":false},\"format\":{\"type\":\"default\",\"decimals\":null},\"aggregate\":\"sum\",\"formatType\":\"numberFormatFromNumberType\"},\"color\":{\"type\":\"nominal\",\"datum\":\"home_workout_worldwide\",\"scale\":{\"range\":[\"#2266D3\"],\"domain\":[\"home_workout_worldwide\"]}}},\"transform\":[]}]},{\"layer\":[{\"mark\":{\"clip\":true,\"type\":\"line\",\"color\":\"#83AFF6\",\"tooltip\":true},\"encoding\":{\"x\":{\"sort\":null,\"type\":\"nominal\",\"field\":\"month\",\"scale\":{\"type\":\"linear\",\"zero\":false}},\"y\":{\"axis\":{\"format\":{\"type\":\"default\",\"decimals\":null},\"formatType\":\"numberFormatFromNumberType\"},\"type\":\"quantitative\",\"field\":\"gym_workout_worldwide\",\"scale\":{\"type\":\"linear\",\"zero\":false},\"format\":{\"type\":\"default\",\"decimals\":null},\"aggregate\":\"sum\",\"formatType\":\"numberFormatFromNumberType\"},\"color\":{\"type\":\"nominal\",\"datum\":\"gym_workout_worldwide\",\"scale\":{\"range\":[\"#83AFF6\"],\"domain\":[\"gym_workout_worldwide\"]}}},\"transform\":[]}]},{\"layer\":[{\"mark\":{\"clip\":true,\"type\":\"line\",\"color\":\"#CC8BFF\",\"tooltip\":true},\"encoding\":{\"x\":{\"sort\":null,\"type\":\"nominal\",\"field\":\"month\",\"scale\":{\"type\":\"linear\",\"zero\":false}},\"y\":{\"axis\":{\"format\":{\"type\":\"default\",\"decimals\":null},\"formatType\":\"numberFormatFromNumberType\"},\"type\":\"quantitative\",\"field\":\"home_gym_worldwide\",\"scale\":{\"type\":\"linear\",\"zero\":false},\"format\":{\"type\":\"default\",\"decimals\":null},\"aggregate\":\"sum\",\"formatType\":\"numberFormatFromNumberType\"},\"color\":{\"type\":\"nominal\",\"datum\":\"home_gym_worldwide\",\"scale\":{\"range\":[\"#CC8BFF\"],\"domain\":[\"home_gym_worldwide\"]}}},\"transform\":[]}]}],\"resolve\":{\"scale\":{\"color\":\"independent\"}}}],\"title\":\"\",\"config\":{\"legend\":{\"disable\":false}},\"$schema\":\"https://vega.github.io/schema/vega-lite/v5.json\",\"encoding\":{},\"usermeta\":{\"seriesNames\":[\"home_workout_worldwide\",\"gym_workout_worldwide\",\"home_gym_worldwide\"],\"seriesOrder\":[0,1,2],\"specSchemaVersion\":2,\"tooltipDefaultMode\":true}}\"\"\", **({'attach_selection': True} if 'attach_selection' in inspect.signature(_dntk.DeepnoteChart).parameters else {}), **({'filters': '[]'} if 'filters' in inspect.signature(_dntk.DeepnoteChart).parameters else {}))",
            "block_group": "d228f7d339ec421da288017292ded8f2",
            "execution_count": 6,
            "outputs": [
                {
                    "output_type": "execute_result",
                    "execution_count": 6,
                    "data": {
                        "application/vnd.vega.v5+json": {
                            "$schema": "https://vega.github.io/schema/vega/v5.json",
                            "data": [
                                {
                                    "name": "legend_size_0_store"
                                },
                                {
                                    "name": "legend_color_0_store"
                                },
                                {
                                    "name": "interval_selection_store"
                                },
                                {
                                    "name": "legend_size_1_store"
                                },
                                {
                                    "name": "legend_color_1_store"
                                },
                                {
                                    "name": "legend_size_2_store"
                                },
                                {
                                    "name": "legend_color_2_store"
                                },
                                {
                                    "name": "source_0",
                                    "values": [
                                        {
                                            "month": "2021-01",
                                            "sum_home_gym_worldwide": 25,
                                            "sum_home_workout_worldwide": 31,
                                            "sum_gym_workout_worldwide": 16
                                        },
                                        {
                                            "month": "2021-02",
                                            "sum_home_gym_worldwide": 18,
                                            "sum_home_workout_worldwide": 22,
                                            "sum_gym_workout_worldwide": 14
                                        },
                                        {
                                            "month": "2021-03",
                                            "sum_home_gym_worldwide": 17,
                                            "sum_home_workout_worldwide": 19,
                                            "sum_gym_workout_worldwide": 15
                                        },
                                        {
                                            "month": "2021-04",
                                            "sum_home_gym_worldwide": 17,
                                            "sum_home_workout_worldwide": 18,
                                            "sum_gym_workout_worldwide": 14
                                        },
                                        {
                                            "month": "2021-05",
                                            "sum_home_gym_worldwide": 17,
                                            "sum_home_workout_worldwide": 19,
                                            "sum_gym_workout_worldwide": 14
                                        },
                                        {
                                            "month": "2021-06",
                                            "sum_home_gym_worldwide": 14,
                                            "sum_home_workout_worldwide": 17,
                                            "sum_gym_workout_worldwide": 14
                                        },
                                        {
                                            "month": "2021-07",
                                            "sum_home_gym_worldwide": 14,
                                            "sum_home_workout_worldwide": 16,
                                            "sum_gym_workout_worldwide": 16
                                        },
                                        {
                                            "month": "2021-08",
                                            "sum_home_gym_worldwide": 15,
                                            "sum_home_workout_worldwide": 14,
                                            "sum_gym_workout_worldwide": 16
                                        },
                                        {
                                            "month": "2021-09",
                                            "sum_home_gym_worldwide": 13,
                                            "sum_home_workout_worldwide": 14,
                                            "sum_gym_workout_worldwide": 15
                                        },
                                        {
                                            "month": "2021-10",
                                            "sum_home_gym_worldwide": 13,
                                            "sum_home_workout_worldwide": 12,
                                            "sum_gym_workout_worldwide": 15
                                        },
                                        {
                                            "month": "2021-11",
                                            "sum_home_gym_worldwide": 14,
                                            "sum_home_workout_worldwide": 12,
                                            "sum_gym_workout_worldwide": 14
                                        },
                                        {
                                            "month": "2021-12",
                                            "sum_home_gym_worldwide": 14,
                                            "sum_home_workout_worldwide": 12,
                                            "sum_gym_workout_worldwide": 13
                                        },
                                        {
                                            "month": "2022-01",
                                            "sum_home_gym_worldwide": 21,
                                            "sum_home_workout_worldwide": 21,
                                            "sum_gym_workout_worldwide": 19
                                        },
                                        {
                                            "month": "2022-02",
                                            "sum_home_gym_worldwide": 14,
                                            "sum_home_workout_worldwide": 14,
                                            "sum_gym_workout_worldwide": 19
                                        },
                                        {
                                            "month": "2022-03",
                                            "sum_home_gym_worldwide": 13,
                                            "sum_home_workout_worldwide": 13,
                                            "sum_gym_workout_worldwide": 19
                                        },
                                        {
                                            "month": "2022-04",
                                            "sum_home_gym_worldwide": 12,
                                            "sum_home_workout_worldwide": 14,
                                            "sum_gym_workout_worldwide": 17
                                        },
                                        {
                                            "month": "2022-05",
                                            "sum_home_gym_worldwide": 12,
                                            "sum_home_workout_worldwide": 13,
                                            "sum_gym_workout_worldwide": 17
                                        },
                                        {
                                            "month": "2022-06",
                                            "sum_home_gym_worldwide": 11,
                                            "sum_home_workout_worldwide": 14,
                                            "sum_gym_workout_worldwide": 20
                                        },
                                        {
                                            "month": "2022-07",
                                            "sum_home_gym_worldwide": 12,
                                            "sum_home_workout_worldwide": 14,
                                            "sum_gym_workout_worldwide": 20
                                        },
                                        {
                                            "month": "2022-08",
                                            "sum_home_gym_worldwide": 12,
                                            "sum_home_workout_worldwide": 13,
                                            "sum_gym_workout_worldwide": 20
                                        },
                                        {
                                            "month": "2022-09",
                                            "sum_home_gym_worldwide": 11,
                                            "sum_home_workout_worldwide": 11,
                                            "sum_gym_workout_worldwide": 19
                                        },
                                        {
                                            "month": "2022-10",
                                            "sum_home_gym_worldwide": 11,
                                            "sum_home_workout_worldwide": 11,
                                            "sum_gym_workout_worldwide": 16
                                        },
                                        {
                                            "month": "2022-11",
                                            "sum_home_gym_worldwide": 12,
                                            "sum_home_workout_worldwide": 11,
                                            "sum_gym_workout_worldwide": 18
                                        },
                                        {
                                            "month": "2022-12",
                                            "sum_home_gym_worldwide": 11,
                                            "sum_home_workout_worldwide": 11,
                                            "sum_gym_workout_worldwide": 16
                                        },
                                        {
                                            "month": "2023-01",
                                            "sum_home_gym_worldwide": 15,
                                            "sum_home_workout_worldwide": 17,
                                            "sum_gym_workout_worldwide": 22
                                        },
                                        {
                                            "month": "2023-02",
                                            "sum_home_gym_worldwide": 12,
                                            "sum_home_workout_worldwide": 14,
                                            "sum_gym_workout_worldwide": 21
                                        },
                                        {
                                            "month": "2023-03",
                                            "sum_home_gym_worldwide": 12,
                                            "sum_home_workout_worldwide": 13,
                                            "sum_gym_workout_worldwide": 19
                                        }
                                    ]
                                },
                                {
                                    "name": "source_0_x_domain_month",
                                    "values": [
                                        {
                                            "month": "2021-01"
                                        },
                                        {
                                            "month": "2021-02"
                                        },
                                        {
                                            "month": "2021-03"
                                        },
                                        {
                                            "month": "2021-04"
                                        },
                                        {
                                            "month": "2021-05"
                                        },
                                        {
                                            "month": "2021-06"
                                        },
                                        {
                                            "month": "2021-07"
                                        },
                                        {
                                            "month": "2021-08"
                                        },
                                        {
                                            "month": "2021-09"
                                        },
                                        {
                                            "month": "2021-10"
                                        },
                                        {
                                            "month": "2021-11"
                                        },
                                        {
                                            "month": "2021-12"
                                        },
                                        {
                                            "month": "2022-01"
                                        },
                                        {
                                            "month": "2022-02"
                                        },
                                        {
                                            "month": "2022-03"
                                        },
                                        {
                                            "month": "2022-04"
                                        },
                                        {
                                            "month": "2022-05"
                                        },
                                        {
                                            "month": "2022-06"
                                        },
                                        {
                                            "month": "2022-07"
                                        },
                                        {
                                            "month": "2022-08"
                                        },
                                        {
                                            "month": "2022-09"
                                        },
                                        {
                                            "month": "2022-10"
                                        },
                                        {
                                            "month": "2022-11"
                                        },
                                        {
                                            "month": "2022-12"
                                        },
                                        {
                                            "month": "2023-01"
                                        },
                                        {
                                            "month": "2023-02"
                                        },
                                        {
                                            "month": "2023-03"
                                        }
                                    ]
                                }
                            ],
                            "signals": [
                                {
                                    "name": "width",
                                    "init": "isFinite(containerSize()[0]) ? containerSize()[0] : 200",
                                    "on": [
                                        {
                                            "events": "window:resize",
                                            "update": "isFinite(containerSize()[0]) ? containerSize()[0] : 200"
                                        }
                                    ]
                                },
                                {
                                    "name": "height",
                                    "init": "isFinite(containerSize()[1]) ? containerSize()[1] : 200",
                                    "on": [
                                        {
                                            "events": "window:resize",
                                            "update": "isFinite(containerSize()[1]) ? containerSize()[1] : 200"
                                        }
                                    ]
                                },
                                {
                                    "name": "unit",
                                    "value": {},
                                    "on": [
                                        {
                                            "events": "pointermove",
                                            "update": "isTuple(group()) ? group() : unit"
                                        }
                                    ]
                                },
                                {
                                    "name": "legend_size_0",
                                    "update": "vlSelectionResolve(\"legend_size_0_store\", \"union\", true, true)"
                                },
                                {
                                    "name": "legend_color_0",
                                    "update": "vlSelectionResolve(\"legend_color_0_store\", \"union\", true, true)"
                                },
                                {
                                    "name": "interval_selection",
                                    "update": "vlSelectionResolve(\"interval_selection_store\", \"union\")"
                                },
                                {
                                    "name": "legend_size_1",
                                    "update": "vlSelectionResolve(\"legend_size_1_store\", \"union\", true, true)"
                                },
                                {
                                    "name": "legend_color_1",
                                    "update": "vlSelectionResolve(\"legend_color_1_store\", \"union\", true, true)"
                                },
                                {
                                    "name": "legend_size_2",
                                    "update": "vlSelectionResolve(\"legend_size_2_store\", \"union\", true, true)"
                                },
                                {
                                    "name": "legend_color_2",
                                    "update": "vlSelectionResolve(\"legend_color_2_store\", \"union\", true, true)"
                                },
                                {
                                    "name": "legend_size_0_tuple",
                                    "on": [
                                        {
                                            "events": [
                                                {
                                                    "source": "scope",
                                                    "type": "click"
                                                }
                                            ],
                                            "update": "datum && item().mark.marktype !== 'group' && indexof(item().mark.role, 'legend') < 0 && indexof(item().mark.name, 'interval_selection_brush') < 0 ? {unit: \"layer_0_layer_0_layer_0\", fields: legend_size_0_tuple_fields, values: []} : null",
                                            "force": true
                                        },
                                        {
                                            "events": [
                                                {
                                                    "source": "view",
                                                    "type": "dblclick"
                                                }
                                            ],
                                            "update": "null"
                                        }
                                    ]
                                },
                                {
                                    "name": "legend_size_0_tuple_fields",
                                    "value": []
                                },
                                {
                                    "name": "legend_size_0_toggle",
                                    "value": false,
                                    "on": [
                                        {
                                            "events": [
                                                {
                                                    "source": "scope",
                                                    "type": "click"
                                                }
                                            ],
                                            "update": "true"
                                        },
                                        {
                                            "events": [
                                                {
                                                    "source": "view",
                                                    "type": "dblclick"
                                                }
                                            ],
                                            "update": "false"
                                        }
                                    ]
                                },
                                {
                                    "name": "legend_size_0_modify",
                                    "on": [
                                        {
                                            "events": {
                                                "signal": "legend_size_0_tuple"
                                            },
                                            "update": "modify(\"legend_size_0_store\", legend_size_0_toggle ? null : legend_size_0_tuple, legend_size_0_toggle ? null : true, legend_size_0_toggle ? legend_size_0_tuple : null)"
                                        }
                                    ]
                                },
                                {
                                    "name": "legend_color_0_tuple",
                                    "on": [
                                        {
                                            "events": [
                                                {
                                                    "source": "scope",
                                                    "type": "click"
                                                }
                                            ],
                                            "update": "datum && item().mark.marktype !== 'group' && indexof(item().mark.role, 'legend') < 0 && indexof(item().mark.name, 'interval_selection_brush') < 0 ? {unit: \"layer_0_layer_0_layer_0\", fields: legend_color_0_tuple_fields, values: []} : null",
                                            "force": true
                                        },
                                        {
                                            "events": [
                                                {
                                                    "source": "view",
                                                    "type": "dblclick"
                                                }
                                            ],
                                            "update": "null"
                                        }
                                    ]
                                },
                                {
                                    "name": "legend_color_0_tuple_fields",
                                    "value": []
                                },
                                {
                                    "name": "legend_color_0_toggle",
                                    "value": false,
                                    "on": [
                                        {
                                            "events": [
                                                {
                                                    "source": "scope",
                                                    "type": "click"
                                                }
                                            ],
                                            "update": "true"
                                        },
                                        {
                                            "events": [
                                                {
                                                    "source": "view",
                                                    "type": "dblclick"
                                                }
                                            ],
                                            "update": "false"
                                        }
                                    ]
                                },
                                {
                                    "name": "legend_color_0_modify",
                                    "on": [
                                        {
                                            "events": {
                                                "signal": "legend_color_0_tuple"
                                            },
                                            "update": "modify(\"legend_color_0_store\", legend_color_0_toggle ? null : legend_color_0_tuple, legend_color_0_toggle ? null : true, legend_color_0_toggle ? legend_color_0_tuple : null)"
                                        }
                                    ]
                                },
                                {
                                    "name": "interval_selection_x",
                                    "value": [],
                                    "on": [
                                        {
                                            "events": {
                                                "source": "scope",
                                                "filter": [
                                                    "!event.item || event.item.mark.name !== \"interval_selection_brush\""
                                                ],
                                                "type": "pointerdown"
                                            },
                                            "update": "[x(unit), x(unit)]"
                                        },
                                        {
                                            "events": {
                                                "source": "window",
                                                "between": [
                                                    {
                                                        "source": "scope",
                                                        "filter": [
                                                            "!event.item || event.item.mark.name !== \"interval_selection_brush\""
                                                        ],
                                                        "type": "pointerdown"
                                                    },
                                                    {
                                                        "source": "window",
                                                        "type": "pointerup"
                                                    }
                                                ],
                                                "type": "pointermove",
                                                "consume": true
                                            },
                                            "update": "[interval_selection_x[0], clamp(x(unit), 0, width)]"
                                        },
                                        {
                                            "events": {
                                                "signal": "interval_selection_scale_trigger"
                                            },
                                            "update": "[0, 0]"
                                        },
                                        {
                                            "events": [
                                                {
                                                    "source": "view",
                                                    "type": "dblclick"
                                                }
                                            ],
                                            "update": "[0, 0]"
                                        },
                                        {
                                            "events": {
                                                "signal": "interval_selection_translate_delta"
                                            },
                                            "update": "clampRange(panLinear(interval_selection_translate_anchor.extent_x, interval_selection_translate_delta.x / span(interval_selection_translate_anchor.extent_x)), 0, width)"
                                        },
                                        {
                                            "events": {
                                                "signal": "interval_selection_zoom_delta"
                                            },
                                            "update": "clampRange(zoomLinear(interval_selection_x, interval_selection_zoom_anchor.x, interval_selection_zoom_delta), 0, width)"
                                        }
                                    ]
                                },
                                {
                                    "name": "interval_selection_month",
                                    "on": [
                                        {
                                            "events": {
                                                "signal": "interval_selection_x"
                                            },
                                            "update": "interval_selection_x[0] === interval_selection_x[1] ? null : invert(\"x\", interval_selection_x)"
                                        }
                                    ]
                                },
                                {
                                    "name": "interval_selection_scale_trigger",
                                    "value": {},
                                    "on": [
                                        {
                                            "events": [
                                                {
                                                    "scale": "x"
                                                }
                                            ],
                                            "update": "(!isArray(interval_selection_month) || (invert(\"x\", interval_selection_x)[0] === interval_selection_month[0] && invert(\"x\", interval_selection_x)[1] === interval_selection_month[1])) ? interval_selection_scale_trigger : {}"
                                        }
                                    ]
                                },
                                {
                                    "name": "interval_selection_tuple",
                                    "on": [
                                        {
                                            "events": [
                                                {
                                                    "signal": "interval_selection_month"
                                                }
                                            ],
                                            "update": "interval_selection_month ? {unit: \"layer_0_layer_0_layer_0\", fields: interval_selection_tuple_fields, values: [interval_selection_month]} : null"
                                        }
                                    ]
                                },
                                {
                                    "name": "interval_selection_tuple_fields",
                                    "value": [
                                        {
                                            "field": "month",
                                            "channel": "x",
                                            "type": "E"
                                        }
                                    ]
                                },
                                {
                                    "name": "interval_selection_translate_anchor",
                                    "value": {},
                                    "on": [
                                        {
                                            "events": [
                                                {
                                                    "source": "scope",
                                                    "markname": "interval_selection_brush",
                                                    "type": "pointerdown"
                                                }
                                            ],
                                            "update": "{x: x(unit), y: y(unit), extent_x: slice(interval_selection_x)}"
                                        }
                                    ]
                                },
                                {
                                    "name": "interval_selection_translate_delta",
                                    "value": {},
                                    "on": [
                                        {
                                            "events": [
                                                {
                                                    "source": "window",
                                                    "between": [
                                                        {
                                                            "source": "scope",
                                                            "markname": "interval_selection_brush",
                                                            "type": "pointerdown"
                                                        },
                                                        {
                                                            "source": "window",
                                                            "type": "pointerup"
                                                        }
                                                    ],
                                                    "consume": true,
                                                    "type": "pointermove"
                                                }
                                            ],
                                            "update": "{x: interval_selection_translate_anchor.x - x(unit), y: interval_selection_translate_anchor.y - y(unit)}"
                                        }
                                    ]
                                },
                                {
                                    "name": "interval_selection_zoom_anchor",
                                    "on": [
                                        {
                                            "events": [
                                                {
                                                    "source": "scope",
                                                    "markname": "interval_selection_brush",
                                                    "type": "wheel",
                                                    "consume": true
                                                }
                                            ],
                                            "update": "{x: x(unit), y: y(unit)}"
                                        }
                                    ]
                                },
                                {
                                    "name": "interval_selection_zoom_delta",
                                    "on": [
                                        {
                                            "events": [
                                                {
                                                    "source": "scope",
                                                    "markname": "interval_selection_brush",
                                                    "type": "wheel",
                                                    "consume": true
                                                }
                                            ],
                                            "update": "pow(1.001, event.deltaY * pow(16, event.deltaMode))",
                                            "force": true
                                        }
                                    ]
                                },
                                {
                                    "name": "interval_selection_modify",
                                    "on": [
                                        {
                                            "events": {
                                                "signal": "interval_selection_tuple"
                                            },
                                            "update": "modify(\"interval_selection_store\", interval_selection_tuple, true)"
                                        }
                                    ]
                                },
                                {
                                    "name": "legend_size_1_tuple",
                                    "on": [
                                        {
                                            "events": [
                                                {
                                                    "source": "scope",
                                                    "type": "click"
                                                }
                                            ],
                                            "update": "datum && item().mark.marktype !== 'group' && indexof(item().mark.role, 'legend') < 0 ? {unit: \"layer_0_layer_1_layer_0\", fields: legend_size_1_tuple_fields, values: []} : null",
                                            "force": true
                                        },
                                        {
                                            "events": [
                                                {
                                                    "source": "view",
                                                    "type": "dblclick"
                                                }
                                            ],
                                            "update": "null"
                                        }
                                    ]
                                },
                                {
                                    "name": "legend_size_1_tuple_fields",
                                    "value": []
                                },
                                {
                                    "name": "legend_size_1_toggle",
                                    "value": false,
                                    "on": [
                                        {
                                            "events": [
                                                {
                                                    "source": "scope",
                                                    "type": "click"
                                                }
                                            ],
                                            "update": "true"
                                        },
                                        {
                                            "events": [
                                                {
                                                    "source": "view",
                                                    "type": "dblclick"
                                                }
                                            ],
                                            "update": "false"
                                        }
                                    ]
                                },
                                {
                                    "name": "legend_size_1_modify",
                                    "on": [
                                        {
                                            "events": {
                                                "signal": "legend_size_1_tuple"
                                            },
                                            "update": "modify(\"legend_size_1_store\", legend_size_1_toggle ? null : legend_size_1_tuple, legend_size_1_toggle ? null : true, legend_size_1_toggle ? legend_size_1_tuple : null)"
                                        }
                                    ]
                                },
                                {
                                    "name": "legend_color_1_tuple",
                                    "on": [
                                        {
                                            "events": [
                                                {
                                                    "source": "scope",
                                                    "type": "click"
                                                }
                                            ],
                                            "update": "datum && item().mark.marktype !== 'group' && indexof(item().mark.role, 'legend') < 0 ? {unit: \"layer_0_layer_1_layer_0\", fields: legend_color_1_tuple_fields, values: []} : null",
                                            "force": true
                                        },
                                        {
                                            "events": [
                                                {
                                                    "source": "view",
                                                    "type": "dblclick"
                                                }
                                            ],
                                            "update": "null"
                                        }
                                    ]
                                },
                                {
                                    "name": "legend_color_1_tuple_fields",
                                    "value": []
                                },
                                {
                                    "name": "legend_color_1_toggle",
                                    "value": false,
                                    "on": [
                                        {
                                            "events": [
                                                {
                                                    "source": "scope",
                                                    "type": "click"
                                                }
                                            ],
                                            "update": "true"
                                        },
                                        {
                                            "events": [
                                                {
                                                    "source": "view",
                                                    "type": "dblclick"
                                                }
                                            ],
                                            "update": "false"
                                        }
                                    ]
                                },
                                {
                                    "name": "legend_color_1_modify",
                                    "on": [
                                        {
                                            "events": {
                                                "signal": "legend_color_1_tuple"
                                            },
                                            "update": "modify(\"legend_color_1_store\", legend_color_1_toggle ? null : legend_color_1_tuple, legend_color_1_toggle ? null : true, legend_color_1_toggle ? legend_color_1_tuple : null)"
                                        }
                                    ]
                                },
                                {
                                    "name": "legend_size_2_tuple",
                                    "on": [
                                        {
                                            "events": [
                                                {
                                                    "source": "scope",
                                                    "type": "click"
                                                }
                                            ],
                                            "update": "datum && item().mark.marktype !== 'group' && indexof(item().mark.role, 'legend') < 0 ? {unit: \"layer_0_layer_2_layer_0\", fields: legend_size_2_tuple_fields, values: []} : null",
                                            "force": true
                                        },
                                        {
                                            "events": [
                                                {
                                                    "source": "view",
                                                    "type": "dblclick"
                                                }
                                            ],
                                            "update": "null"
                                        }
                                    ]
                                },
                                {
                                    "name": "legend_size_2_tuple_fields",
                                    "value": []
                                },
                                {
                                    "name": "legend_size_2_toggle",
                                    "value": false,
                                    "on": [
                                        {
                                            "events": [
                                                {
                                                    "source": "scope",
                                                    "type": "click"
                                                }
                                            ],
                                            "update": "true"
                                        },
                                        {
                                            "events": [
                                                {
                                                    "source": "view",
                                                    "type": "dblclick"
                                                }
                                            ],
                                            "update": "false"
                                        }
                                    ]
                                },
                                {
                                    "name": "legend_size_2_modify",
                                    "on": [
                                        {
                                            "events": {
                                                "signal": "legend_size_2_tuple"
                                            },
                                            "update": "modify(\"legend_size_2_store\", legend_size_2_toggle ? null : legend_size_2_tuple, legend_size_2_toggle ? null : true, legend_size_2_toggle ? legend_size_2_tuple : null)"
                                        }
                                    ]
                                },
                                {
                                    "name": "legend_color_2_tuple",
                                    "on": [
                                        {
                                            "events": [
                                                {
                                                    "source": "scope",
                                                    "type": "click"
                                                }
                                            ],
                                            "update": "datum && item().mark.marktype !== 'group' && indexof(item().mark.role, 'legend') < 0 ? {unit: \"layer_0_layer_2_layer_0\", fields: legend_color_2_tuple_fields, values: []} : null",
                                            "force": true
                                        },
                                        {
                                            "events": [
                                                {
                                                    "source": "view",
                                                    "type": "dblclick"
                                                }
                                            ],
                                            "update": "null"
                                        }
                                    ]
                                },
                                {
                                    "name": "legend_color_2_tuple_fields",
                                    "value": []
                                },
                                {
                                    "name": "legend_color_2_toggle",
                                    "value": false,
                                    "on": [
                                        {
                                            "events": [
                                                {
                                                    "source": "scope",
                                                    "type": "click"
                                                }
                                            ],
                                            "update": "true"
                                        },
                                        {
                                            "events": [
                                                {
                                                    "source": "view",
                                                    "type": "dblclick"
                                                }
                                            ],
                                            "update": "false"
                                        }
                                    ]
                                },
                                {
                                    "name": "legend_color_2_modify",
                                    "on": [
                                        {
                                            "events": {
                                                "signal": "legend_color_2_tuple"
                                            },
                                            "update": "modify(\"legend_color_2_store\", legend_color_2_toggle ? null : legend_color_2_tuple, legend_color_2_toggle ? null : true, legend_color_2_toggle ? legend_color_2_tuple : null)"
                                        }
                                    ]
                                }
                            ],
                            "marks": [
                                {
                                    "type": "rect",
                                    "name": "interval_selection_brush_bg",
                                    "encode": {
                                        "update": {
                                            "y2": [
                                                {
                                                    "field": {
                                                        "signal": null,
                                                        "datum": null,
                                                        "group": "height",
                                                        "parent": null
                                                    },
                                                    "test": "data(\"interval_selection_store\").length && data(\"interval_selection_store\")[0].unit === \"layer_0_layer_0_layer_0\""
                                                },
                                                {
                                                    "value": 0
                                                }
                                            ],
                                            "x2": [
                                                {
                                                    "signal": "interval_selection_x[1]",
                                                    "test": "data(\"interval_selection_store\").length && data(\"interval_selection_store\")[0].unit === \"layer_0_layer_0_layer_0\""
                                                },
                                                {
                                                    "value": 0
                                                }
                                            ],
                                            "y": [
                                                {
                                                    "value": 0,
                                                    "test": "data(\"interval_selection_store\").length && data(\"interval_selection_store\")[0].unit === \"layer_0_layer_0_layer_0\""
                                                },
                                                {
                                                    "value": 0
                                                }
                                            ],
                                            "x": [
                                                {
                                                    "signal": "interval_selection_x[0]",
                                                    "test": "data(\"interval_selection_store\").length && data(\"interval_selection_store\")[0].unit === \"layer_0_layer_0_layer_0\""
                                                },
                                                {
                                                    "value": 0
                                                }
                                            ]
                                        },
                                        "enter": {
                                            "fill": {
                                                "value": "#333"
                                            },
                                            "fillOpacity": {
                                                "value": 0.125
                                            }
                                        }
                                    },
                                    "clip": true
                                },
                                {
                                    "type": "line",
                                    "name": "layer_0_layer_0_layer_0_marks",
                                    "from": {
                                        "data": "source_0"
                                    },
                                    "sort": {
                                        "field": "x"
                                    },
                                    "encode": {
                                        "update": {
                                            "defined": {
                                                "signal": "isValid(datum[\"sum_home_workout_worldwide\"]) && isFinite(+datum[\"sum_home_workout_worldwide\"])"
                                            },
                                            "opacity": [
                                                {
                                                    "value": 1,
                                                    "test": "(!length(data(\"legend_size_0_store\")) || vlSelectionTest(\"legend_size_0_store\", datum)) && (!length(data(\"legend_color_0_store\")) || vlSelectionTest(\"legend_color_0_store\", datum))"
                                                },
                                                {
                                                    "value": 0.2
                                                }
                                            ],
                                            "stroke": {
                                                "value": "home_workout_worldwide",
                                                "scale": "layer_0_layer_0_color"
                                            },
                                            "x": {
                                                "field": "month",
                                                "scale": "x"
                                            },
                                            "y": {
                                                "field": "sum_home_workout_worldwide",
                                                "scale": "y"
                                            },
                                            "tooltip": {
                                                "signal": "{\"month\": isValid(datum[\"month\"]) ? datum[\"month\"] : \"\"+datum[\"month\"], \"Sum of home_workout_worldwide\": numberFormatFromNumberType(datum[\"sum_home_workout_worldwide\"], {\"decimals\":null,\"type\":\"default\"})}"
                                            }
                                        }
                                    },
                                    "interactive": true,
                                    "clip": true,
                                    "style": [
                                        "line"
                                    ]
                                },
                                {
                                    "type": "rect",
                                    "name": "interval_selection_brush",
                                    "encode": {
                                        "update": {
                                            "y": [
                                                {
                                                    "value": 0,
                                                    "test": "data(\"interval_selection_store\").length && data(\"interval_selection_store\")[0].unit === \"layer_0_layer_0_layer_0\""
                                                },
                                                {
                                                    "value": 0
                                                }
                                            ],
                                            "x2": [
                                                {
                                                    "signal": "interval_selection_x[1]",
                                                    "test": "data(\"interval_selection_store\").length && data(\"interval_selection_store\")[0].unit === \"layer_0_layer_0_layer_0\""
                                                },
                                                {
                                                    "value": 0
                                                }
                                            ],
                                            "x": [
                                                {
                                                    "signal": "interval_selection_x[0]",
                                                    "test": "data(\"interval_selection_store\").length && data(\"interval_selection_store\")[0].unit === \"layer_0_layer_0_layer_0\""
                                                },
                                                {
                                                    "value": 0
                                                }
                                            ],
                                            "y2": [
                                                {
                                                    "field": {
                                                        "signal": null,
                                                        "datum": null,
                                                        "group": "height",
                                                        "parent": null
                                                    },
                                                    "test": "data(\"interval_selection_store\").length && data(\"interval_selection_store\")[0].unit === \"layer_0_layer_0_layer_0\""
                                                },
                                                {
                                                    "value": 0
                                                }
                                            ],
                                            "stroke": [
                                                {
                                                    "value": "white",
                                                    "test": "interval_selection_x[0] !== interval_selection_x[1]"
                                                },
                                                {}
                                            ]
                                        },
                                        "enter": {
                                            "cursor": {
                                                "value": "move"
                                            },
                                            "fill": {
                                                "value": "transparent"
                                            }
                                        }
                                    },
                                    "clip": true
                                },
                                {
                                    "type": "line",
                                    "name": "layer_0_layer_1_layer_0_marks",
                                    "from": {
                                        "data": "source_0"
                                    },
                                    "sort": {
                                        "field": "x"
                                    },
                                    "encode": {
                                        "update": {
                                            "tooltip": {
                                                "signal": "{\"month\": isValid(datum[\"month\"]) ? datum[\"month\"] : \"\"+datum[\"month\"], \"Sum of gym_workout_worldwide\": numberFormatFromNumberType(datum[\"sum_gym_workout_worldwide\"], {\"decimals\":null,\"type\":\"default\"})}"
                                            },
                                            "stroke": {
                                                "value": "gym_workout_worldwide",
                                                "scale": "layer_0_layer_1_color"
                                            },
                                            "y": {
                                                "field": "sum_gym_workout_worldwide",
                                                "scale": "y"
                                            },
                                            "defined": {
                                                "signal": "isValid(datum[\"sum_gym_workout_worldwide\"]) && isFinite(+datum[\"sum_gym_workout_worldwide\"])"
                                            },
                                            "x": {
                                                "field": "month",
                                                "scale": "x"
                                            },
                                            "opacity": [
                                                {
                                                    "value": 1,
                                                    "test": "(!length(data(\"legend_size_1_store\")) || vlSelectionTest(\"legend_size_1_store\", datum)) && (!length(data(\"legend_color_1_store\")) || vlSelectionTest(\"legend_color_1_store\", datum))"
                                                },
                                                {
                                                    "value": 0.2
                                                }
                                            ]
                                        }
                                    },
                                    "style": [
                                        "line"
                                    ],
                                    "clip": true,
                                    "interactive": true
                                },
                                {
                                    "type": "line",
                                    "name": "layer_0_layer_2_layer_0_marks",
                                    "from": {
                                        "data": "source_0"
                                    },
                                    "sort": {
                                        "field": "x"
                                    },
                                    "encode": {
                                        "update": {
                                            "y": {
                                                "field": "sum_home_gym_worldwide",
                                                "scale": "y"
                                            },
                                            "defined": {
                                                "signal": "isValid(datum[\"sum_home_gym_worldwide\"]) && isFinite(+datum[\"sum_home_gym_worldwide\"])"
                                            },
                                            "opacity": [
                                                {
                                                    "value": 1,
                                                    "test": "(!length(data(\"legend_size_2_store\")) || vlSelectionTest(\"legend_size_2_store\", datum)) && (!length(data(\"legend_color_2_store\")) || vlSelectionTest(\"legend_color_2_store\", datum))"
                                                },
                                                {
                                                    "value": 0.2
                                                }
                                            ],
                                            "tooltip": {
                                                "signal": "{\"month\": isValid(datum[\"month\"]) ? datum[\"month\"] : \"\"+datum[\"month\"], \"Sum of home_gym_worldwide\": numberFormatFromNumberType(datum[\"sum_home_gym_worldwide\"], {\"decimals\":null,\"type\":\"default\"})}"
                                            },
                                            "x": {
                                                "field": "month",
                                                "scale": "x"
                                            },
                                            "stroke": {
                                                "value": "home_gym_worldwide",
                                                "scale": "layer_0_layer_2_color"
                                            }
                                        }
                                    },
                                    "clip": true,
                                    "interactive": true,
                                    "style": [
                                        "line"
                                    ]
                                }
                            ],
                            "scales": [
                                {
                                    "name": "x",
                                    "type": "point",
                                    "domain": {
                                        "data": "source_0_x_domain_month",
                                        "field": "month"
                                    },
                                    "range": [
                                        0,
                                        {
                                            "signal": "width"
                                        }
                                    ],
                                    "padding": 0.5
                                },
                                {
                                    "name": "y",
                                    "type": "linear",
                                    "domain": {
                                        "data": "source_0",
                                        "fields": [
                                            "sum_home_workout_worldwide",
                                            "sum_gym_workout_worldwide",
                                            "sum_home_gym_worldwide"
                                        ]
                                    },
                                    "range": [
                                        {
                                            "signal": "height"
                                        },
                                        0
                                    ],
                                    "nice": true,
                                    "zero": false
                                },
                                {
                                    "name": "layer_0_layer_0_color",
                                    "type": "ordinal",
                                    "domain": [
                                        "home_workout_worldwide"
                                    ],
                                    "range": [
                                        "#2266D3"
                                    ]
                                },
                                {
                                    "name": "layer_0_layer_1_color",
                                    "type": "ordinal",
                                    "domain": [
                                        "gym_workout_worldwide"
                                    ],
                                    "range": [
                                        "#83AFF6"
                                    ]
                                },
                                {
                                    "name": "layer_0_layer_2_color",
                                    "type": "ordinal",
                                    "domain": [
                                        "home_gym_worldwide"
                                    ],
                                    "range": [
                                        "#CC8BFF"
                                    ]
                                }
                            ],
                            "axes": [
                                {
                                    "scale": "y",
                                    "grid": true,
                                    "tickCount": 5,
                                    "ticks": false,
                                    "aria": false,
                                    "gridScale": "x",
                                    "domain": false,
                                    "orient": "left",
                                    "labels": false,
                                    "zindex": 0,
                                    "maxExtent": 0,
                                    "minExtent": 0
                                },
                                {
                                    "scale": "x",
                                    "title": "month",
                                    "labelAlign": "right",
                                    "orient": "bottom",
                                    "grid": false,
                                    "labelBaseline": "middle",
                                    "zindex": 0,
                                    "labelAngle": 270
                                },
                                {
                                    "scale": "y",
                                    "grid": false,
                                    "labelOverlap": true,
                                    "encode": {
                                        "labels": {
                                            "update": {
                                                "text": {
                                                    "signal": "numberFormatFromNumberType(datum.value, {\"decimals\":null,\"type\":\"default\"})"
                                                }
                                            }
                                        }
                                    },
                                    "orient": "left",
                                    "tickCount": 5,
                                    "title": "Sum of home_workout_worldwide, Sum of gym_workout_worldwide, Sum of home_gym_worldwide",
                                    "zindex": 0
                                }
                            ],
                            "usermeta": {
                                "specSchemaVersion": 2,
                                "tooltipDefaultMode": true,
                                "seriesNames": [
                                    "home_workout_worldwide",
                                    "gym_workout_worldwide",
                                    "home_gym_worldwide"
                                ],
                                "seriesOrder": [
                                    0,
                                    1,
                                    2
                                ],
                                "outputMetadata": {
                                    "rowLimitExceeded": false,
                                    "rowLimit": 5000,
                                    "filteredDataframeSize": 27,
                                    "columns": [
                                        {
                                            "name": "month",
                                            "nativeType": "object",
                                            "distinctValues": [
                                                "2021-01",
                                                "2021-02",
                                                "2021-03",
                                                "2021-04",
                                                "2021-05",
                                                "2021-06",
                                                "2021-07",
                                                "2021-08",
                                                "2021-09",
                                                "2021-10",
                                                "2021-11",
                                                "2021-12",
                                                "2022-01",
                                                "2022-02",
                                                "2022-03",
                                                "2022-04",
                                                "2022-05",
                                                "2022-06",
                                                "2022-07",
                                                "2022-08",
                                                "2022-09",
                                                "2022-10",
                                                "2022-11",
                                                "2022-12",
                                                "2023-01",
                                                "2023-02",
                                                "2023-03"
                                            ]
                                        },
                                        {
                                            "name": "home_workout_worldwide",
                                            "nativeType": "int64",
                                            "distinctValues": [
                                                11,
                                                12,
                                                13,
                                                14,
                                                16,
                                                17,
                                                18,
                                                19,
                                                21,
                                                22,
                                                31
                                            ]
                                        },
                                        {
                                            "name": "gym_workout_worldwide",
                                            "nativeType": "int64",
                                            "distinctValues": [
                                                13,
                                                14,
                                                15,
                                                16,
                                                17,
                                                18,
                                                19,
                                                20,
                                                21,
                                                22
                                            ]
                                        },
                                        {
                                            "name": "home_gym_worldwide",
                                            "nativeType": "int64",
                                            "distinctValues": [
                                                11,
                                                12,
                                                13,
                                                14,
                                                15,
                                                17,
                                                18,
                                                21,
                                                25
                                            ]
                                        }
                                    ]
                                }
                            },
                            "padding": 5,
                            "config": {
                                "customFormatTypes": true,
                                "legend": {
                                    "disable": false
                                }
                            },
                            "legends": [
                                {
                                    "stroke": "layer_0_layer_0_color",
                                    "symbolType": "stroke",
                                    "encode": {
                                        "symbols": {
                                            "update": {
                                                "opacity": {
                                                    "value": 1
                                                }
                                            }
                                        }
                                    }
                                },
                                {
                                    "stroke": "layer_0_layer_1_color",
                                    "symbolType": "stroke",
                                    "encode": {
                                        "symbols": {
                                            "update": {
                                                "opacity": {
                                                    "value": 1
                                                }
                                            }
                                        }
                                    }
                                },
                                {
                                    "stroke": "layer_0_layer_2_color",
                                    "symbolType": "stroke",
                                    "encode": {
                                        "symbols": {
                                            "update": {
                                                "opacity": {
                                                    "value": 1
                                                }
                                            }
                                        }
                                    }
                                }
                            ],
                            "autosize": {
                                "type": "fit",
                                "contains": "padding"
                            },
                            "background": "white",
                            "style": "cell"
                        },
                        "text/plain": "<deepnote_toolkit.chart.deepnote_chart.DeepnoteChart at 0x7fcfa5e5d780>"
                    },
                    "metadata": {}
                }
            ],
            "outputs_reference": "s3:deepnote-cell-outputs-production/52b5a35b-18db-4df6-b9a5-f820c8d49e95"
        },
        {
            "cell_type": "markdown",
            "metadata": {
                "formattedRanges": [],
                "cell_id": "211c77c8e4e145bc9454261c64583e27",
                "deepnote_cell_type": "text-cell-h3"
            },
            "source": "### Most searched word during the Covid-19 period",
            "block_group": "c01c0f2170e6494b99b51ab5dee57f3a"
        },
        {
            "cell_type": "code",
            "metadata": {
                "source_hash": "f28d2416",
                "execution_start": 1759029352238,
                "execution_millis": 1,
                "deepnote_table_state": {
                    "sortBy": [],
                    "filters": [],
                    "pageSize": 10,
                    "pageIndex": 1,
                    "columnOrder": [],
                    "hiddenColumnIds": [],
                    "columnDisplayNames": [],
                    "conditionalFilters": [],
                    "cellFormattingRules": [],
                    "wrappedTextColumnIds": []
                },
                "execution_context_id": "580fb81c-8d6f-4804-9cb5-7036727bb28b",
                "deepnote_table_loading": false,
                "cell_id": "034d8beb098f46b29a4cead6c08ccdba",
                "deepnote_cell_type": "code"
            },
            "source": "\npeak_covid_word = peak_covid.iloc[:, 1:4]\nindex_line_max, column_max = peak_covid_word.stack().idxmax()\npeak_covid = column_max\nprint(peak_covid)",
            "block_group": "facc94f460d54babbc1ffe903a3b27c9",
            "execution_count": 7,
            "outputs": [
                {
                    "name": "stdout",
                    "text": "home_workout_worldwide\n",
                    "output_type": "stream"
                }
            ],
            "outputs_reference": "dbtable:cell_outputs/d1f9fa4b-0794-44c2-99c5-19ceebebcda4",
            "content_dependencies": null
        },
        {
            "cell_type": "markdown",
            "metadata": {
                "formattedRanges": [],
                "cell_id": "ddf736b3b3454092a4e9595437070b03",
                "deepnote_cell_type": "text-cell-h3"
            },
            "source": "### Most searched word nowadays (2023): 'gym_workout_worldwide'",
            "block_group": "b7aa8879266c420880726f86b9c63167"
        },
        {
            "cell_type": "code",
            "metadata": {
                "source_hash": "a5b94950",
                "execution_start": 1759029352287,
                "execution_millis": 1,
                "execution_context_id": "580fb81c-8d6f-4804-9cb5-7036727bb28b",
                "cell_id": "9614e786acc343bc85dd983260576f92",
                "deepnote_cell_type": "code"
            },
            "source": "peak_nowadays = three_keywords[three_keywords['month'].str.startswith('2023')]\npeak_nowadays = peak_nowadays.iloc[:,1:4]\n\nindex_line_max, column_max = peak_nowadays.stack().idxmax()\n\ncurrent = column_max\nprint (current)",
            "block_group": "a6b11e8f3fe148a287471da75cdac3d0",
            "execution_count": 8,
            "outputs": [
                {
                    "name": "stdout",
                    "text": "gym_workout_worldwide\n",
                    "output_type": "stream"
                }
            ],
            "outputs_reference": "dbtable:cell_outputs/048b5ad0-70c3-41b1-a948-a39277a7f51a",
            "content_dependencies": null
        },
        {
            "cell_type": "markdown",
            "metadata": {
                "formattedRanges": [],
                "cell_id": "61d1300c93fa422fbf15d1d904fe8e74",
                "deepnote_cell_type": "text-cell-h1"
            },
            "source": "# What country has the highest interest for workouts among the following",
            "block_group": "7fb38eb290d54d37ae75c4b2cbb89227"
        },
        {
            "cell_type": "code",
            "metadata": {
                "source_hash": "820edd47",
                "execution_start": 1759029352337,
                "execution_millis": 189,
                "deepnote_table_state": {
                    "sortBy": [],
                    "filters": [],
                    "pageSize": 10,
                    "pageIndex": 2,
                    "columnOrder": [
                        "country",
                        "workout_2018_2023"
                    ],
                    "hiddenColumnIds": [],
                    "columnDisplayNames": [],
                    "conditionalFilters": [],
                    "cellFormattingRules": [],
                    "wrappedTextColumnIds": []
                },
                "execution_context_id": "580fb81c-8d6f-4804-9cb5-7036727bb28b",
                "deepnote_table_loading": false,
                "cell_id": "5ebb29daced7488da8e299f0c5a20171",
                "deepnote_cell_type": "code"
            },
            "source": "workout_geo = pd.read_csv('/work/Data_Driven_Product_Management_Conducting_a_Market_Analysis/data/workout_geo.csv')\nworkout_geo",
            "block_group": "a0f90f4992334ad78163a6b2a860b3ee",
            "execution_count": 9,
            "outputs": [
                {
                    "output_type": "execute_result",
                    "execution_count": 9,
                    "data": {
                        "application/vnd.deepnote.dataframe.v3+json": {
                            "column_count": 2,
                            "columns": [
                                {
                                    "name": "country",
                                    "dtype": "object",
                                    "stats": {
                                        "unique_count": 250,
                                        "nan_count": 0,
                                        "min": null,
                                        "max": null,
                                        "histogram": null,
                                        "categories": [
                                            {
                                                "name": "Guam",
                                                "count": 1
                                            },
                                            {
                                                "name": "Falkland Islands (Islas Malvinas)",
                                                "count": 1
                                            },
                                            {
                                                "name": "248 others",
                                                "count": 248
                                            }
                                        ]
                                    }
                                },
                                {
                                    "name": "workout_2018_2023",
                                    "dtype": "float64",
                                    "stats": {
                                        "unique_count": 33,
                                        "nan_count": 189,
                                        "min": "1.0",
                                        "max": "100.0",
                                        "histogram": [
                                            {
                                                "bin_start": 1,
                                                "bin_end": 10.9,
                                                "count": 16
                                            },
                                            {
                                                "bin_start": 10.9,
                                                "bin_end": 20.8,
                                                "count": 16
                                            },
                                            {
                                                "bin_start": 20.8,
                                                "bin_end": 30.700000000000003,
                                                "count": 9
                                            },
                                            {
                                                "bin_start": 30.700000000000003,
                                                "bin_end": 40.6,
                                                "count": 5
                                            },
                                            {
                                                "bin_start": 40.6,
                                                "bin_end": 50.5,
                                                "count": 3
                                            },
                                            {
                                                "bin_start": 50.5,
                                                "bin_end": 60.400000000000006,
                                                "count": 3
                                            },
                                            {
                                                "bin_start": 60.400000000000006,
                                                "bin_end": 70.3,
                                                "count": 4
                                            },
                                            {
                                                "bin_start": 70.3,
                                                "bin_end": 80.2,
                                                "count": 3
                                            },
                                            {
                                                "bin_start": 80.2,
                                                "bin_end": 90.10000000000001,
                                                "count": 1
                                            },
                                            {
                                                "bin_start": 90.10000000000001,
                                                "bin_end": 100,
                                                "count": 1
                                            }
                                        ],
                                        "categories": null
                                    }
                                },
                                {
                                    "name": "_deepnote_index_column",
                                    "dtype": "int64"
                                }
                            ],
                            "row_count": 250,
                            "preview_row_count": 250,
                            "rows": [
                                {
                                    "country": "Samoa",
                                    "workout_2018_2023": "nan",
                                    "_deepnote_index_column": 20
                                },
                                {
                                    "country": "U.S. Virgin Islands",
                                    "workout_2018_2023": "nan",
                                    "_deepnote_index_column": 21
                                },
                                {
                                    "country": "New Zealand",
                                    "workout_2018_2023": 73,
                                    "_deepnote_index_column": 22
                                },
                                {
                                    "country": "Lebanon",
                                    "workout_2018_2023": 73,
                                    "_deepnote_index_column": 23
                                },
                                {
                                    "country": "Trinidad & Tobago",
                                    "workout_2018_2023": "nan",
                                    "_deepnote_index_column": 24
                                },
                                {
                                    "country": "St. Lucia",
                                    "workout_2018_2023": "nan",
                                    "_deepnote_index_column": 25
                                },
                                {
                                    "country": "Antigua & Barbuda",
                                    "workout_2018_2023": "nan",
                                    "_deepnote_index_column": 26
                                },
                                {
                                    "country": "Grenada",
                                    "workout_2018_2023": "nan",
                                    "_deepnote_index_column": 27
                                },
                                {
                                    "country": "Faroe Islands",
                                    "workout_2018_2023": "nan",
                                    "_deepnote_index_column": 28
                                },
                                {
                                    "country": "Guernsey",
                                    "workout_2018_2023": "nan",
                                    "_deepnote_index_column": 29
                                }
                            ],
                            "type": "dataframe"
                        },
                        "text/plain": "                               country  workout_2018_2023\n0                                 Guam                NaN\n1    Falkland Islands (Islas Malvinas)                NaN\n2                         Cook Islands                NaN\n3                               Brunei                NaN\n4                                Palau                NaN\n..                                 ...                ...\n245                            Tokelau                NaN\n246                             Tuvalu                NaN\n247              U.S. Outlying Islands                NaN\n248                       Vatican City                NaN\n249                    Wallis & Futuna                NaN\n\n[250 rows x 2 columns]",
                        "text/html": "<div>\n<style scoped>\n    .dataframe tbody tr th:only-of-type {\n        vertical-align: middle;\n    }\n\n    .dataframe tbody tr th {\n        vertical-align: top;\n    }\n\n    .dataframe thead th {\n        text-align: right;\n    }\n</style>\n<table border=\"1\" class=\"dataframe\">\n  <thead>\n    <tr style=\"text-align: right;\">\n      <th></th>\n      <th>country</th>\n      <th>workout_2018_2023</th>\n    </tr>\n  </thead>\n  <tbody>\n    <tr>\n      <th>0</th>\n      <td>Guam</td>\n      <td>NaN</td>\n    </tr>\n    <tr>\n      <th>1</th>\n      <td>Falkland Islands (Islas Malvinas)</td>\n      <td>NaN</td>\n    </tr>\n    <tr>\n      <th>2</th>\n      <td>Cook Islands</td>\n      <td>NaN</td>\n    </tr>\n    <tr>\n      <th>3</th>\n      <td>Brunei</td>\n      <td>NaN</td>\n    </tr>\n    <tr>\n      <th>4</th>\n      <td>Palau</td>\n      <td>NaN</td>\n    </tr>\n    <tr>\n      <th>...</th>\n      <td>...</td>\n      <td>...</td>\n    </tr>\n    <tr>\n      <th>245</th>\n      <td>Tokelau</td>\n      <td>NaN</td>\n    </tr>\n    <tr>\n      <th>246</th>\n      <td>Tuvalu</td>\n      <td>NaN</td>\n    </tr>\n    <tr>\n      <th>247</th>\n      <td>U.S. Outlying Islands</td>\n      <td>NaN</td>\n    </tr>\n    <tr>\n      <th>248</th>\n      <td>Vatican City</td>\n      <td>NaN</td>\n    </tr>\n    <tr>\n      <th>249</th>\n      <td>Wallis &amp; Futuna</td>\n      <td>NaN</td>\n    </tr>\n  </tbody>\n</table>\n<p>250 rows × 2 columns</p>\n</div>"
                    },
                    "metadata": {}
                }
            ],
            "outputs_reference": "s3:deepnote-cell-outputs-production/4871ba65-7a45-4e85-9483-10ba2f171469",
            "content_dependencies": null
        },
        {
            "cell_type": "code",
            "metadata": {
                "source_hash": "2d874177",
                "execution_start": 1759029352587,
                "execution_millis": 39,
                "deepnote_table_state": {
                    "sortBy": [],
                    "filters": [],
                    "pageSize": 10,
                    "pageIndex": 1,
                    "columnOrder": [
                        "workout_2018_2023"
                    ],
                    "hiddenColumnIds": [],
                    "columnDisplayNames": [],
                    "conditionalFilters": [],
                    "cellFormattingRules": [],
                    "wrappedTextColumnIds": []
                },
                "execution_context_id": "580fb81c-8d6f-4804-9cb5-7036727bb28b",
                "deepnote_table_loading": false,
                "cell_id": "907da2f820a74277a9129ab1718cad27",
                "deepnote_cell_type": "code"
            },
            "source": "workout_geo = pd.read_csv('/work/Data_Driven_Product_Management_Conducting_a_Market_Analysis/data/workout_geo.csv', index_col=0)\n\ntop_country = workout_geo.groupby('country', as_index=True).agg({'workout_2018_2023':'sum'})\ntop_country = top_country['workout_2018_2023'].idxmax() \n",
            "block_group": "acb44c6e66df4939999732bb5a22b07d",
            "execution_count": 10,
            "outputs": [],
            "outputs_reference": null,
            "content_dependencies": null
        },
        {
            "cell_type": "markdown",
            "metadata": {
                "formattedRanges": [],
                "cell_id": "785ddb18281b4923b0b0e647bbc1be68",
                "deepnote_cell_type": "text-cell-h2"
            },
            "source": "## Find the country in the MESA region with the highest interest in home workouts",
            "block_group": "075f0f2370e1466fbb1f7eb745fba29b"
        },
        {
            "cell_type": "code",
            "metadata": {
                "source_hash": "d151d21a",
                "execution_start": 1759029352677,
                "execution_millis": 181,
                "deepnote_table_state": {
                    "sortBy": [
                        {
                            "id": "home_workout_2018_2023",
                            "type": "desc"
                        }
                    ],
                    "filters": [],
                    "pageSize": 10,
                    "pageIndex": 0,
                    "columnOrder": [
                        "Country",
                        "home_workout_2018_2023",
                        "gym_workout_2018_2023",
                        "home_gym_2018_2023"
                    ],
                    "hiddenColumnIds": [],
                    "columnDisplayNames": [],
                    "conditionalFilters": [],
                    "cellFormattingRules": [],
                    "wrappedTextColumnIds": []
                },
                "execution_context_id": "580fb81c-8d6f-4804-9cb5-7036727bb28b",
                "deepnote_table_loading": false,
                "cell_id": "b2505272e5604f909fbada8453b22361",
                "deepnote_cell_type": "code"
            },
            "source": "home_workout_geo_data = pd.read_csv('/work/Data_Driven_Product_Management_Conducting_a_Market_Analysis/data/three_keywords_geo.csv')\nhome_workout_geo_data",
            "block_group": "d28fe1e1e5c04ea5a095a01a4aff1b5c",
            "execution_count": 11,
            "outputs": [
                {
                    "output_type": "execute_result",
                    "execution_count": 11,
                    "data": {
                        "application/vnd.deepnote.dataframe.v3+json": {
                            "column_count": 4,
                            "columns": [
                                {
                                    "name": "Country",
                                    "dtype": "object",
                                    "stats": {
                                        "unique_count": 250,
                                        "nan_count": 0,
                                        "min": null,
                                        "max": null,
                                        "histogram": null,
                                        "categories": [
                                            {
                                                "name": "Iran",
                                                "count": 1
                                            },
                                            {
                                                "name": "Nigeria",
                                                "count": 1
                                            },
                                            {
                                                "name": "248 others",
                                                "count": 248
                                            }
                                        ]
                                    }
                                },
                                {
                                    "name": "home_workout_2018_2023",
                                    "dtype": "float64",
                                    "stats": {
                                        "unique_count": 21,
                                        "nan_count": 203,
                                        "min": "28.0",
                                        "max": "58.0",
                                        "histogram": [
                                            {
                                                "bin_start": 28,
                                                "bin_end": 31,
                                                "count": 2
                                            },
                                            {
                                                "bin_start": 31,
                                                "bin_end": 34,
                                                "count": 7
                                            },
                                            {
                                                "bin_start": 34,
                                                "bin_end": 37,
                                                "count": 8
                                            },
                                            {
                                                "bin_start": 37,
                                                "bin_end": 40,
                                                "count": 5
                                            },
                                            {
                                                "bin_start": 40,
                                                "bin_end": 43,
                                                "count": 7
                                            },
                                            {
                                                "bin_start": 43,
                                                "bin_end": 46,
                                                "count": 4
                                            },
                                            {
                                                "bin_start": 46,
                                                "bin_end": 49,
                                                "count": 4
                                            },
                                            {
                                                "bin_start": 49,
                                                "bin_end": 52,
                                                "count": 5
                                            },
                                            {
                                                "bin_start": 52,
                                                "bin_end": 55,
                                                "count": 3
                                            },
                                            {
                                                "bin_start": 55,
                                                "bin_end": 58,
                                                "count": 2
                                            }
                                        ],
                                        "categories": null
                                    }
                                },
                                {
                                    "name": "gym_workout_2018_2023",
                                    "dtype": "float64",
                                    "stats": {
                                        "unique_count": 23,
                                        "nan_count": 203,
                                        "min": "21.0",
                                        "max": "50.0",
                                        "histogram": [
                                            {
                                                "bin_start": 21,
                                                "bin_end": 23.9,
                                                "count": 1
                                            },
                                            {
                                                "bin_start": 23.9,
                                                "bin_end": 26.8,
                                                "count": 6
                                            },
                                            {
                                                "bin_start": 26.8,
                                                "bin_end": 29.7,
                                                "count": 5
                                            },
                                            {
                                                "bin_start": 29.7,
                                                "bin_end": 32.6,
                                                "count": 8
                                            },
                                            {
                                                "bin_start": 32.6,
                                                "bin_end": 35.5,
                                                "count": 9
                                            },
                                            {
                                                "bin_start": 35.5,
                                                "bin_end": 38.4,
                                                "count": 8
                                            },
                                            {
                                                "bin_start": 38.4,
                                                "bin_end": 41.3,
                                                "count": 3
                                            },
                                            {
                                                "bin_start": 41.3,
                                                "bin_end": 44.2,
                                                "count": 1
                                            },
                                            {
                                                "bin_start": 44.2,
                                                "bin_end": 47.099999999999994,
                                                "count": 4
                                            },
                                            {
                                                "bin_start": 47.099999999999994,
                                                "bin_end": 50,
                                                "count": 2
                                            }
                                        ],
                                        "categories": null
                                    }
                                },
                                {
                                    "name": "home_gym_2018_2023",
                                    "dtype": "float64",
                                    "stats": {
                                        "unique_count": 22,
                                        "nan_count": 203,
                                        "min": "10.0",
                                        "max": "44.0",
                                        "histogram": [
                                            {
                                                "bin_start": 10,
                                                "bin_end": 13.4,
                                                "count": 5
                                            },
                                            {
                                                "bin_start": 13.4,
                                                "bin_end": 16.8,
                                                "count": 3
                                            },
                                            {
                                                "bin_start": 16.8,
                                                "bin_end": 20.2,
                                                "count": 4
                                            },
                                            {
                                                "bin_start": 20.2,
                                                "bin_end": 23.6,
                                                "count": 9
                                            },
                                            {
                                                "bin_start": 23.6,
                                                "bin_end": 27,
                                                "count": 7
                                            },
                                            {
                                                "bin_start": 27,
                                                "bin_end": 30.4,
                                                "count": 9
                                            },
                                            {
                                                "bin_start": 30.4,
                                                "bin_end": 33.8,
                                                "count": 5
                                            },
                                            {
                                                "bin_start": 33.8,
                                                "bin_end": 37.2,
                                                "count": 3
                                            },
                                            {
                                                "bin_start": 37.2,
                                                "bin_end": 40.599999999999994,
                                                "count": 0
                                            },
                                            {
                                                "bin_start": 40.599999999999994,
                                                "bin_end": 44,
                                                "count": 2
                                            }
                                        ],
                                        "categories": null
                                    }
                                },
                                {
                                    "name": "_deepnote_index_column",
                                    "dtype": "int64"
                                }
                            ],
                            "row_count": 250,
                            "preview_row_count": 250,
                            "rows": [
                                {
                                    "Country": "Iran",
                                    "home_workout_2018_2023": 58,
                                    "gym_workout_2018_2023": 25,
                                    "home_gym_2018_2023": 17,
                                    "_deepnote_index_column": 121
                                },
                                {
                                    "Country": "Nigeria",
                                    "home_workout_2018_2023": 56,
                                    "gym_workout_2018_2023": 31,
                                    "home_gym_2018_2023": 13,
                                    "_deepnote_index_column": 63
                                },
                                {
                                    "Country": "Philippines",
                                    "home_workout_2018_2023": 52,
                                    "gym_workout_2018_2023": 38,
                                    "home_gym_2018_2023": 10,
                                    "_deepnote_index_column": 23
                                },
                                {
                                    "Country": "Switzerland",
                                    "home_workout_2018_2023": 52,
                                    "gym_workout_2018_2023": 26,
                                    "home_gym_2018_2023": 22,
                                    "_deepnote_index_column": 80
                                },
                                {
                                    "Country": "Turkey",
                                    "home_workout_2018_2023": 52,
                                    "gym_workout_2018_2023": 29,
                                    "home_gym_2018_2023": 19,
                                    "_deepnote_index_column": 130
                                },
                                {
                                    "Country": "Germany",
                                    "home_workout_2018_2023": 51,
                                    "gym_workout_2018_2023": 25,
                                    "home_gym_2018_2023": 24,
                                    "_deepnote_index_column": 99
                                },
                                {
                                    "Country": "Norway",
                                    "home_workout_2018_2023": 50,
                                    "gym_workout_2018_2023": 35,
                                    "home_gym_2018_2023": 15,
                                    "_deepnote_index_column": 64
                                },
                                {
                                    "Country": "Greece",
                                    "home_workout_2018_2023": 50,
                                    "gym_workout_2018_2023": 30,
                                    "home_gym_2018_2023": 20,
                                    "_deepnote_index_column": 69
                                },
                                {
                                    "Country": "Denmark",
                                    "home_workout_2018_2023": 50,
                                    "gym_workout_2018_2023": 29,
                                    "home_gym_2018_2023": 21,
                                    "_deepnote_index_column": 73
                                },
                                {
                                    "Country": "Belgium",
                                    "home_workout_2018_2023": 50,
                                    "gym_workout_2018_2023": 24,
                                    "home_gym_2018_2023": 26,
                                    "_deepnote_index_column": 82
                                }
                            ],
                            "type": "dataframe"
                        },
                        "text/plain": "                   Country  home_workout_2018_2023  gym_workout_2018_2023  \\\n0                Gibraltar                     NaN                    NaN   \n1                  Lesotho                     NaN                    NaN   \n2                     Guam                     NaN                    NaN   \n3                 Botswana                     NaN                    NaN   \n4                   Brunei                     NaN                    NaN   \n..                     ...                     ...                    ...   \n245                Tokelau                     NaN                    NaN   \n246                 Tuvalu                     NaN                    NaN   \n247  U.S. Outlying Islands                     NaN                    NaN   \n248           Vatican City                     NaN                    NaN   \n249        Wallis & Futuna                     NaN                    NaN   \n\n     home_gym_2018_2023  \n0                   NaN  \n1                   NaN  \n2                   NaN  \n3                   NaN  \n4                   NaN  \n..                  ...  \n245                 NaN  \n246                 NaN  \n247                 NaN  \n248                 NaN  \n249                 NaN  \n\n[250 rows x 4 columns]",
                        "text/html": "<div>\n<style scoped>\n    .dataframe tbody tr th:only-of-type {\n        vertical-align: middle;\n    }\n\n    .dataframe tbody tr th {\n        vertical-align: top;\n    }\n\n    .dataframe thead th {\n        text-align: right;\n    }\n</style>\n<table border=\"1\" class=\"dataframe\">\n  <thead>\n    <tr style=\"text-align: right;\">\n      <th></th>\n      <th>Country</th>\n      <th>home_workout_2018_2023</th>\n      <th>gym_workout_2018_2023</th>\n      <th>home_gym_2018_2023</th>\n    </tr>\n  </thead>\n  <tbody>\n    <tr>\n      <th>0</th>\n      <td>Gibraltar</td>\n      <td>NaN</td>\n      <td>NaN</td>\n      <td>NaN</td>\n    </tr>\n    <tr>\n      <th>1</th>\n      <td>Lesotho</td>\n      <td>NaN</td>\n      <td>NaN</td>\n      <td>NaN</td>\n    </tr>\n    <tr>\n      <th>2</th>\n      <td>Guam</td>\n      <td>NaN</td>\n      <td>NaN</td>\n      <td>NaN</td>\n    </tr>\n    <tr>\n      <th>3</th>\n      <td>Botswana</td>\n      <td>NaN</td>\n      <td>NaN</td>\n      <td>NaN</td>\n    </tr>\n    <tr>\n      <th>4</th>\n      <td>Brunei</td>\n      <td>NaN</td>\n      <td>NaN</td>\n      <td>NaN</td>\n    </tr>\n    <tr>\n      <th>...</th>\n      <td>...</td>\n      <td>...</td>\n      <td>...</td>\n      <td>...</td>\n    </tr>\n    <tr>\n      <th>245</th>\n      <td>Tokelau</td>\n      <td>NaN</td>\n      <td>NaN</td>\n      <td>NaN</td>\n    </tr>\n    <tr>\n      <th>246</th>\n      <td>Tuvalu</td>\n      <td>NaN</td>\n      <td>NaN</td>\n      <td>NaN</td>\n    </tr>\n    <tr>\n      <th>247</th>\n      <td>U.S. Outlying Islands</td>\n      <td>NaN</td>\n      <td>NaN</td>\n      <td>NaN</td>\n    </tr>\n    <tr>\n      <th>248</th>\n      <td>Vatican City</td>\n      <td>NaN</td>\n      <td>NaN</td>\n      <td>NaN</td>\n    </tr>\n    <tr>\n      <th>249</th>\n      <td>Wallis &amp; Futuna</td>\n      <td>NaN</td>\n      <td>NaN</td>\n      <td>NaN</td>\n    </tr>\n  </tbody>\n</table>\n<p>250 rows × 4 columns</p>\n</div>"
                    },
                    "metadata": {}
                }
            ],
            "outputs_reference": "s3:deepnote-cell-outputs-production/e21321da-6d53-4cca-8cfe-eba218504d8f",
            "content_dependencies": null
        },
        {
            "cell_type": "code",
            "metadata": {
                "source_hash": "30cab27c",
                "execution_start": 1759029694888,
                "execution_millis": 0,
                "execution_context_id": "580fb81c-8d6f-4804-9cb5-7036727bb28b",
                "deepnote_variable_name": "home_workout_geo_data",
                "deepnote_config_collapsed": true,
                "deepnote_visualization_spec": {
                    "layer": [
                        {
                            "layer": [
                                {
                                    "layer": [
                                        {
                                            "mark": {
                                                "clip": true,
                                                "type": "bar",
                                                "color": "#2266D3",
                                                "tooltip": true
                                            },
                                            "encoding": {
                                                "x": {
                                                    "axis": {
                                                        "format": {
                                                            "type": "default",
                                                            "decimals": null
                                                        },
                                                        "formatType": "numberFormatFromNumberType"
                                                    },
                                                    "type": "quantitative",
                                                    "field": "home_workout_2018_2023",
                                                    "scale": {
                                                        "type": "linear"
                                                    },
                                                    "stack": "zero",
                                                    "format": {
                                                        "type": "default",
                                                        "decimals": null
                                                    },
                                                    "aggregate": "sum",
                                                    "formatType": "numberFormatFromNumberType"
                                                },
                                                "y": {
                                                    "sort": null,
                                                    "type": "nominal",
                                                    "field": "Country",
                                                    "scale": {
                                                        "type": "linear"
                                                    }
                                                },
                                                "color": {
                                                    "type": "nominal",
                                                    "datum": "home_workout_2018_2023",
                                                    "scale": {
                                                        "range": [
                                                            "#2266D3"
                                                        ],
                                                        "domain": [
                                                            "home_workout_2018_2023"
                                                        ]
                                                    }
                                                }
                                            },
                                            "transform": []
                                        }
                                    ]
                                }
                            ],
                            "resolve": {
                                "scale": {
                                    "color": "independent"
                                }
                            }
                        }
                    ],
                    "title": "Popularity term 'home workout' per Countries ",
                    "config": {
                        "legend": {
                            "disable": false
                        }
                    },
                    "$schema": "https://vega.github.io/schema/vega-lite/v5.json",
                    "encoding": {},
                    "usermeta": {
                        "seriesNames": [
                            "home_workout_2018_2023"
                        ],
                        "seriesOrder": [
                            0
                        ],
                        "specSchemaVersion": 2,
                        "tooltipDefaultMode": true
                    }
                },
                "cell_id": "72d931abe2614bba97887940e953aa00",
                "deepnote_cell_type": "visualization"
            },
            "source": "import inspect\n_dntk.DeepnoteChart(home_workout_geo_data, \"\"\"{\"layer\":[{\"layer\":[{\"layer\":[{\"mark\":{\"clip\":true,\"type\":\"bar\",\"color\":\"#2266D3\",\"tooltip\":true},\"encoding\":{\"x\":{\"axis\":{\"format\":{\"type\":\"default\",\"decimals\":null},\"formatType\":\"numberFormatFromNumberType\"},\"type\":\"quantitative\",\"field\":\"home_workout_2018_2023\",\"scale\":{\"type\":\"linear\"},\"stack\":\"zero\",\"format\":{\"type\":\"default\",\"decimals\":null},\"aggregate\":\"sum\",\"formatType\":\"numberFormatFromNumberType\"},\"y\":{\"sort\":null,\"type\":\"nominal\",\"field\":\"Country\",\"scale\":{\"type\":\"linear\"}},\"color\":{\"type\":\"nominal\",\"datum\":\"home_workout_2018_2023\",\"scale\":{\"range\":[\"#2266D3\"],\"domain\":[\"home_workout_2018_2023\"]}}},\"transform\":[]}]}],\"resolve\":{\"scale\":{\"color\":\"independent\"}}}],\"title\":\"Popularity term 'home workout' per Countries \",\"config\":{\"legend\":{\"disable\":false}},\"$schema\":\"https://vega.github.io/schema/vega-lite/v5.json\",\"encoding\":{},\"usermeta\":{\"seriesNames\":[\"home_workout_2018_2023\"],\"seriesOrder\":[0],\"specSchemaVersion\":2,\"tooltipDefaultMode\":true}}\"\"\", **({'attach_selection': True} if 'attach_selection' in inspect.signature(_dntk.DeepnoteChart).parameters else {}), **({'filters': '[]'} if 'filters' in inspect.signature(_dntk.DeepnoteChart).parameters else {}))",
            "block_group": "65b0ea82043643438299c94e9d3c779a",
            "execution_count": 130,
            "outputs": [
                {
                    "output_type": "execute_result",
                    "execution_count": 130,
                    "data": {
                        "application/vnd.vega.v5+json": {
                            "$schema": "https://vega.github.io/schema/vega/v5.json",
                            "data": [
                                {
                                    "name": "legend_size_0_store"
                                },
                                {
                                    "name": "legend_color_0_store"
                                },
                                {
                                    "name": "interval_selection_store"
                                },
                                {
                                    "name": "source_0",
                                    "values": [
                                        {
                                            "Country": "South Africa",
                                            "sum_home_workout_2018_2023": 41
                                        },
                                        {
                                            "Country": "Australia",
                                            "sum_home_workout_2018_2023": 30
                                        },
                                        {
                                            "Country": "Canada",
                                            "sum_home_workout_2018_2023": 40
                                        },
                                        {
                                            "Country": "Philippines",
                                            "sum_home_workout_2018_2023": 52
                                        },
                                        {
                                            "Country": "United Kingdom",
                                            "sum_home_workout_2018_2023": 34
                                        },
                                        {
                                            "Country": "Ireland",
                                            "sum_home_workout_2018_2023": 33
                                        },
                                        {
                                            "Country": "India",
                                            "sum_home_workout_2018_2023": 28
                                        },
                                        {
                                            "Country": "New Zealand",
                                            "sum_home_workout_2018_2023": 34
                                        },
                                        {
                                            "Country": "United States",
                                            "sum_home_workout_2018_2023": 36
                                        },
                                        {
                                            "Country": "United Arab Emirates",
                                            "sum_home_workout_2018_2023": 32
                                        },
                                        {
                                            "Country": "Sri Lanka",
                                            "sum_home_workout_2018_2023": 33
                                        },
                                        {
                                            "Country": "Singapore",
                                            "sum_home_workout_2018_2023": 37
                                        },
                                        {
                                            "Country": "Kenya",
                                            "sum_home_workout_2018_2023": 47
                                        },
                                        {
                                            "Country": "Pakistan",
                                            "sum_home_workout_2018_2023": 31
                                        },
                                        {
                                            "Country": "Malaysia",
                                            "sum_home_workout_2018_2023": 47
                                        },
                                        {
                                            "Country": "Nigeria",
                                            "sum_home_workout_2018_2023": 56
                                        },
                                        {
                                            "Country": "Norway",
                                            "sum_home_workout_2018_2023": 50
                                        },
                                        {
                                            "Country": "Sweden",
                                            "sum_home_workout_2018_2023": 37
                                        },
                                        {
                                            "Country": "Greece",
                                            "sum_home_workout_2018_2023": 50
                                        },
                                        {
                                            "Country": "Netherlands",
                                            "sum_home_workout_2018_2023": 45
                                        },
                                        {
                                            "Country": "Denmark",
                                            "sum_home_workout_2018_2023": 50
                                        },
                                        {
                                            "Country": "Egypt",
                                            "sum_home_workout_2018_2023": 40
                                        },
                                        {
                                            "Country": "Switzerland",
                                            "sum_home_workout_2018_2023": 52
                                        },
                                        {
                                            "Country": "Belgium",
                                            "sum_home_workout_2018_2023": 50
                                        },
                                        {
                                            "Country": "Bangladesh",
                                            "sum_home_workout_2018_2023": 36
                                        },
                                        {
                                            "Country": "Portugal",
                                            "sum_home_workout_2018_2023": 46
                                        },
                                        {
                                            "Country": "Hong Kong",
                                            "sum_home_workout_2018_2023": 43
                                        },
                                        {
                                            "Country": "Romania",
                                            "sum_home_workout_2018_2023": 43
                                        },
                                        {
                                            "Country": "Austria",
                                            "sum_home_workout_2018_2023": 47
                                        },
                                        {
                                            "Country": "Germany",
                                            "sum_home_workout_2018_2023": 51
                                        },
                                        {
                                            "Country": "Hungary",
                                            "sum_home_workout_2018_2023": 45
                                        },
                                        {
                                            "Country": "Saudi Arabia",
                                            "sum_home_workout_2018_2023": 35
                                        },
                                        {
                                            "Country": "Indonesia",
                                            "sum_home_workout_2018_2023": 40
                                        },
                                        {
                                            "Country": "Vietnam",
                                            "sum_home_workout_2018_2023": 36
                                        },
                                        {
                                            "Country": "Iran",
                                            "sum_home_workout_2018_2023": 58
                                        },
                                        {
                                            "Country": "Italy",
                                            "sum_home_workout_2018_2023": 37
                                        },
                                        {
                                            "Country": "Thailand",
                                            "sum_home_workout_2018_2023": 41
                                        },
                                        {
                                            "Country": "Spain",
                                            "sum_home_workout_2018_2023": 35
                                        },
                                        {
                                            "Country": "Mexico",
                                            "sum_home_workout_2018_2023": 33
                                        },
                                        {
                                            "Country": "South Korea",
                                            "sum_home_workout_2018_2023": 37
                                        },
                                        {
                                            "Country": "France",
                                            "sum_home_workout_2018_2023": 31
                                        },
                                        {
                                            "Country": "Turkey",
                                            "sum_home_workout_2018_2023": 52
                                        },
                                        {
                                            "Country": "Poland",
                                            "sum_home_workout_2018_2023": 40
                                        },
                                        {
                                            "Country": "Argentina",
                                            "sum_home_workout_2018_2023": 32
                                        },
                                        {
                                            "Country": "Russia",
                                            "sum_home_workout_2018_2023": 39
                                        },
                                        {
                                            "Country": "Brazil",
                                            "sum_home_workout_2018_2023": 41
                                        },
                                        {
                                            "Country": "Japan",
                                            "sum_home_workout_2018_2023": 34
                                        }
                                    ]
                                },
                                {
                                    "name": "source_0_x_domain_sum_home_workout_2018_2023",
                                    "values": [
                                        {
                                            "min": 28,
                                            "max": 58
                                        }
                                    ]
                                },
                                {
                                    "name": "source_0_y_domain_Country",
                                    "values": [
                                        {
                                            "Country": "South Africa"
                                        },
                                        {
                                            "Country": "Australia"
                                        },
                                        {
                                            "Country": "Canada"
                                        },
                                        {
                                            "Country": "Philippines"
                                        },
                                        {
                                            "Country": "United Kingdom"
                                        },
                                        {
                                            "Country": "Ireland"
                                        },
                                        {
                                            "Country": "India"
                                        },
                                        {
                                            "Country": "New Zealand"
                                        },
                                        {
                                            "Country": "United States"
                                        },
                                        {
                                            "Country": "United Arab Emirates"
                                        },
                                        {
                                            "Country": "Sri Lanka"
                                        },
                                        {
                                            "Country": "Singapore"
                                        },
                                        {
                                            "Country": "Kenya"
                                        },
                                        {
                                            "Country": "Pakistan"
                                        },
                                        {
                                            "Country": "Malaysia"
                                        },
                                        {
                                            "Country": "Nigeria"
                                        },
                                        {
                                            "Country": "Norway"
                                        },
                                        {
                                            "Country": "Sweden"
                                        },
                                        {
                                            "Country": "Greece"
                                        },
                                        {
                                            "Country": "Netherlands"
                                        },
                                        {
                                            "Country": "Denmark"
                                        },
                                        {
                                            "Country": "Egypt"
                                        },
                                        {
                                            "Country": "Switzerland"
                                        },
                                        {
                                            "Country": "Belgium"
                                        },
                                        {
                                            "Country": "Bangladesh"
                                        },
                                        {
                                            "Country": "Portugal"
                                        },
                                        {
                                            "Country": "Hong Kong"
                                        },
                                        {
                                            "Country": "Romania"
                                        },
                                        {
                                            "Country": "Austria"
                                        },
                                        {
                                            "Country": "Germany"
                                        },
                                        {
                                            "Country": "Hungary"
                                        },
                                        {
                                            "Country": "Saudi Arabia"
                                        },
                                        {
                                            "Country": "Indonesia"
                                        },
                                        {
                                            "Country": "Vietnam"
                                        },
                                        {
                                            "Country": "Iran"
                                        },
                                        {
                                            "Country": "Italy"
                                        },
                                        {
                                            "Country": "Thailand"
                                        },
                                        {
                                            "Country": "Spain"
                                        },
                                        {
                                            "Country": "Mexico"
                                        },
                                        {
                                            "Country": "South Korea"
                                        },
                                        {
                                            "Country": "France"
                                        },
                                        {
                                            "Country": "Turkey"
                                        },
                                        {
                                            "Country": "Poland"
                                        },
                                        {
                                            "Country": "Argentina"
                                        },
                                        {
                                            "Country": "Russia"
                                        },
                                        {
                                            "Country": "Brazil"
                                        },
                                        {
                                            "Country": "Japan"
                                        }
                                    ]
                                }
                            ],
                            "signals": [
                                {
                                    "name": "width",
                                    "init": "isFinite(containerSize()[0]) ? containerSize()[0] : 200",
                                    "on": [
                                        {
                                            "events": "window:resize",
                                            "update": "isFinite(containerSize()[0]) ? containerSize()[0] : 200"
                                        }
                                    ]
                                },
                                {
                                    "name": "height",
                                    "init": "isFinite(containerSize()[1]) ? containerSize()[1] : 200",
                                    "on": [
                                        {
                                            "events": "window:resize",
                                            "update": "isFinite(containerSize()[1]) ? containerSize()[1] : 200"
                                        }
                                    ]
                                },
                                {
                                    "name": "unit",
                                    "value": {},
                                    "on": [
                                        {
                                            "events": "pointermove",
                                            "update": "isTuple(group()) ? group() : unit"
                                        }
                                    ]
                                },
                                {
                                    "name": "legend_size_0",
                                    "update": "vlSelectionResolve(\"legend_size_0_store\", \"union\", true, true)"
                                },
                                {
                                    "name": "legend_color_0",
                                    "update": "vlSelectionResolve(\"legend_color_0_store\", \"union\", true, true)"
                                },
                                {
                                    "name": "interval_selection",
                                    "update": "vlSelectionResolve(\"interval_selection_store\", \"union\")"
                                },
                                {
                                    "name": "legend_size_0_tuple",
                                    "on": [
                                        {
                                            "events": [
                                                {
                                                    "source": "scope",
                                                    "type": "click"
                                                }
                                            ],
                                            "update": "datum && item().mark.marktype !== 'group' && indexof(item().mark.role, 'legend') < 0 && indexof(item().mark.name, 'interval_selection_brush') < 0 ? {unit: \"layer_0_layer_0_layer_0\", fields: legend_size_0_tuple_fields, values: []} : null",
                                            "force": true
                                        },
                                        {
                                            "events": [
                                                {
                                                    "source": "view",
                                                    "type": "dblclick"
                                                }
                                            ],
                                            "update": "null"
                                        }
                                    ]
                                },
                                {
                                    "name": "legend_size_0_tuple_fields",
                                    "value": []
                                },
                                {
                                    "name": "legend_size_0_toggle",
                                    "value": false,
                                    "on": [
                                        {
                                            "events": [
                                                {
                                                    "source": "scope",
                                                    "type": "click"
                                                }
                                            ],
                                            "update": "true"
                                        },
                                        {
                                            "events": [
                                                {
                                                    "source": "view",
                                                    "type": "dblclick"
                                                }
                                            ],
                                            "update": "false"
                                        }
                                    ]
                                },
                                {
                                    "name": "legend_size_0_modify",
                                    "on": [
                                        {
                                            "events": {
                                                "signal": "legend_size_0_tuple"
                                            },
                                            "update": "modify(\"legend_size_0_store\", legend_size_0_toggle ? null : legend_size_0_tuple, legend_size_0_toggle ? null : true, legend_size_0_toggle ? legend_size_0_tuple : null)"
                                        }
                                    ]
                                },
                                {
                                    "name": "legend_color_0_tuple",
                                    "on": [
                                        {
                                            "events": [
                                                {
                                                    "source": "scope",
                                                    "type": "click"
                                                }
                                            ],
                                            "update": "datum && item().mark.marktype !== 'group' && indexof(item().mark.role, 'legend') < 0 && indexof(item().mark.name, 'interval_selection_brush') < 0 ? {unit: \"layer_0_layer_0_layer_0\", fields: legend_color_0_tuple_fields, values: []} : null",
                                            "force": true
                                        },
                                        {
                                            "events": [
                                                {
                                                    "source": "view",
                                                    "type": "dblclick"
                                                }
                                            ],
                                            "update": "null"
                                        }
                                    ]
                                },
                                {
                                    "name": "legend_color_0_tuple_fields",
                                    "value": []
                                },
                                {
                                    "name": "legend_color_0_toggle",
                                    "value": false,
                                    "on": [
                                        {
                                            "events": [
                                                {
                                                    "source": "scope",
                                                    "type": "click"
                                                }
                                            ],
                                            "update": "true"
                                        },
                                        {
                                            "events": [
                                                {
                                                    "source": "view",
                                                    "type": "dblclick"
                                                }
                                            ],
                                            "update": "false"
                                        }
                                    ]
                                },
                                {
                                    "name": "legend_color_0_modify",
                                    "on": [
                                        {
                                            "events": {
                                                "signal": "legend_color_0_tuple"
                                            },
                                            "update": "modify(\"legend_color_0_store\", legend_color_0_toggle ? null : legend_color_0_tuple, legend_color_0_toggle ? null : true, legend_color_0_toggle ? legend_color_0_tuple : null)"
                                        }
                                    ]
                                },
                                {
                                    "name": "interval_selection_y",
                                    "value": [],
                                    "on": [
                                        {
                                            "events": {
                                                "source": "scope",
                                                "filter": [
                                                    "!event.item || event.item.mark.name !== \"interval_selection_brush\""
                                                ],
                                                "type": "pointerdown"
                                            },
                                            "update": "[y(unit), y(unit)]"
                                        },
                                        {
                                            "events": {
                                                "source": "window",
                                                "between": [
                                                    {
                                                        "source": "scope",
                                                        "filter": [
                                                            "!event.item || event.item.mark.name !== \"interval_selection_brush\""
                                                        ],
                                                        "type": "pointerdown"
                                                    },
                                                    {
                                                        "source": "window",
                                                        "type": "pointerup"
                                                    }
                                                ],
                                                "consume": true,
                                                "type": "pointermove"
                                            },
                                            "update": "[interval_selection_y[0], clamp(y(unit), 0, height)]"
                                        },
                                        {
                                            "events": {
                                                "signal": "interval_selection_scale_trigger"
                                            },
                                            "update": "[0, 0]"
                                        },
                                        {
                                            "events": [
                                                {
                                                    "source": "view",
                                                    "type": "dblclick"
                                                }
                                            ],
                                            "update": "[0, 0]"
                                        },
                                        {
                                            "events": {
                                                "signal": "interval_selection_translate_delta"
                                            },
                                            "update": "clampRange(panLinear(interval_selection_translate_anchor.extent_y, interval_selection_translate_delta.y / span(interval_selection_translate_anchor.extent_y)), 0, height)"
                                        },
                                        {
                                            "events": {
                                                "signal": "interval_selection_zoom_delta"
                                            },
                                            "update": "clampRange(zoomLinear(interval_selection_y, interval_selection_zoom_anchor.y, interval_selection_zoom_delta), 0, height)"
                                        }
                                    ]
                                },
                                {
                                    "name": "interval_selection_Country",
                                    "on": [
                                        {
                                            "events": {
                                                "signal": "interval_selection_y"
                                            },
                                            "update": "interval_selection_y[0] === interval_selection_y[1] ? null : invert(\"y\", interval_selection_y)"
                                        }
                                    ]
                                },
                                {
                                    "name": "interval_selection_scale_trigger",
                                    "value": {},
                                    "on": [
                                        {
                                            "events": [
                                                {
                                                    "scale": "y"
                                                }
                                            ],
                                            "update": "(!isArray(interval_selection_Country) || (invert(\"y\", interval_selection_y)[0] === interval_selection_Country[0] && invert(\"y\", interval_selection_y)[1] === interval_selection_Country[1])) ? interval_selection_scale_trigger : {}"
                                        }
                                    ]
                                },
                                {
                                    "name": "interval_selection_tuple",
                                    "on": [
                                        {
                                            "events": [
                                                {
                                                    "signal": "interval_selection_Country"
                                                }
                                            ],
                                            "update": "interval_selection_Country ? {unit: \"layer_0_layer_0_layer_0\", fields: interval_selection_tuple_fields, values: [interval_selection_Country]} : null"
                                        }
                                    ]
                                },
                                {
                                    "name": "interval_selection_tuple_fields",
                                    "value": [
                                        {
                                            "field": "Country",
                                            "channel": "y",
                                            "type": "E"
                                        }
                                    ]
                                },
                                {
                                    "name": "interval_selection_translate_anchor",
                                    "value": {},
                                    "on": [
                                        {
                                            "events": [
                                                {
                                                    "source": "scope",
                                                    "markname": "interval_selection_brush",
                                                    "type": "pointerdown"
                                                }
                                            ],
                                            "update": "{x: x(unit), y: y(unit), extent_y: slice(interval_selection_y)}"
                                        }
                                    ]
                                },
                                {
                                    "name": "interval_selection_translate_delta",
                                    "value": {},
                                    "on": [
                                        {
                                            "events": [
                                                {
                                                    "source": "window",
                                                    "between": [
                                                        {
                                                            "source": "scope",
                                                            "markname": "interval_selection_brush",
                                                            "type": "pointerdown"
                                                        },
                                                        {
                                                            "source": "window",
                                                            "type": "pointerup"
                                                        }
                                                    ],
                                                    "consume": true,
                                                    "type": "pointermove"
                                                }
                                            ],
                                            "update": "{x: interval_selection_translate_anchor.x - x(unit), y: interval_selection_translate_anchor.y - y(unit)}"
                                        }
                                    ]
                                },
                                {
                                    "name": "interval_selection_zoom_anchor",
                                    "on": [
                                        {
                                            "events": [
                                                {
                                                    "source": "scope",
                                                    "markname": "interval_selection_brush",
                                                    "type": "wheel",
                                                    "consume": true
                                                }
                                            ],
                                            "update": "{x: x(unit), y: y(unit)}"
                                        }
                                    ]
                                },
                                {
                                    "name": "interval_selection_zoom_delta",
                                    "on": [
                                        {
                                            "events": [
                                                {
                                                    "source": "scope",
                                                    "markname": "interval_selection_brush",
                                                    "consume": true,
                                                    "type": "wheel"
                                                }
                                            ],
                                            "update": "pow(1.001, event.deltaY * pow(16, event.deltaMode))",
                                            "force": true
                                        }
                                    ]
                                },
                                {
                                    "name": "interval_selection_modify",
                                    "on": [
                                        {
                                            "events": {
                                                "signal": "interval_selection_tuple"
                                            },
                                            "update": "modify(\"interval_selection_store\", interval_selection_tuple, true)"
                                        }
                                    ]
                                }
                            ],
                            "marks": [
                                {
                                    "type": "rect",
                                    "name": "interval_selection_brush_bg",
                                    "encode": {
                                        "update": {
                                            "x": [
                                                {
                                                    "value": 0,
                                                    "test": "data(\"interval_selection_store\").length && data(\"interval_selection_store\")[0].unit === \"layer_0_layer_0_layer_0\""
                                                },
                                                {
                                                    "value": 0
                                                }
                                            ],
                                            "y": [
                                                {
                                                    "signal": "interval_selection_y[0]",
                                                    "test": "data(\"interval_selection_store\").length && data(\"interval_selection_store\")[0].unit === \"layer_0_layer_0_layer_0\""
                                                },
                                                {
                                                    "value": 0
                                                }
                                            ],
                                            "x2": [
                                                {
                                                    "field": {
                                                        "signal": null,
                                                        "datum": null,
                                                        "group": "width",
                                                        "parent": null
                                                    },
                                                    "test": "data(\"interval_selection_store\").length && data(\"interval_selection_store\")[0].unit === \"layer_0_layer_0_layer_0\""
                                                },
                                                {
                                                    "value": 0
                                                }
                                            ],
                                            "y2": [
                                                {
                                                    "signal": "interval_selection_y[1]",
                                                    "test": "data(\"interval_selection_store\").length && data(\"interval_selection_store\")[0].unit === \"layer_0_layer_0_layer_0\""
                                                },
                                                {
                                                    "value": 0
                                                }
                                            ]
                                        },
                                        "enter": {
                                            "fillOpacity": {
                                                "value": 0.125
                                            },
                                            "fill": {
                                                "value": "#333"
                                            }
                                        }
                                    },
                                    "clip": true
                                },
                                {
                                    "type": "rect",
                                    "name": "layer_0_layer_0_layer_0_marks",
                                    "from": {
                                        "data": "source_0"
                                    },
                                    "encode": {
                                        "update": {
                                            "opacity": [
                                                {
                                                    "value": 1,
                                                    "test": "(!length(data(\"legend_size_0_store\")) || vlSelectionTest(\"legend_size_0_store\", datum)) && (!length(data(\"legend_color_0_store\")) || vlSelectionTest(\"legend_color_0_store\", datum)) && (!length(data(\"interval_selection_store\")) || vlSelectionTest(\"interval_selection_store\", datum))"
                                                },
                                                {
                                                    "value": 0.2
                                                }
                                            ],
                                            "fill": {
                                                "value": "home_workout_2018_2023",
                                                "scale": "layer_0_layer_0_color"
                                            },
                                            "tooltip": {
                                                "signal": "{\"Sum of home_workout_2018_2023\": numberFormatFromNumberType(datum[\"sum_home_workout_2018_2023\"], {\"decimals\":null,\"type\":\"default\"}), \"Country\": isValid(datum[\"Country\"]) ? datum[\"Country\"] : \"\"+datum[\"Country\"]}"
                                            },
                                            "y": {
                                                "field": "Country",
                                                "scale": "y"
                                            },
                                            "height": {
                                                "signal": "max(0.25, bandwidth('y'))"
                                            },
                                            "x2": {
                                                "value": 0,
                                                "scale": "x"
                                            },
                                            "x": {
                                                "field": "sum_home_workout_2018_2023",
                                                "scale": "x"
                                            }
                                        }
                                    },
                                    "style": [
                                        "bar"
                                    ],
                                    "interactive": true,
                                    "clip": true
                                },
                                {
                                    "type": "rect",
                                    "name": "interval_selection_brush",
                                    "encode": {
                                        "update": {
                                            "x2": [
                                                {
                                                    "field": {
                                                        "signal": null,
                                                        "datum": null,
                                                        "group": "width",
                                                        "parent": null
                                                    },
                                                    "test": "data(\"interval_selection_store\").length && data(\"interval_selection_store\")[0].unit === \"layer_0_layer_0_layer_0\""
                                                },
                                                {
                                                    "value": 0
                                                }
                                            ],
                                            "x": [
                                                {
                                                    "value": 0,
                                                    "test": "data(\"interval_selection_store\").length && data(\"interval_selection_store\")[0].unit === \"layer_0_layer_0_layer_0\""
                                                },
                                                {
                                                    "value": 0
                                                }
                                            ],
                                            "y2": [
                                                {
                                                    "signal": "interval_selection_y[1]",
                                                    "test": "data(\"interval_selection_store\").length && data(\"interval_selection_store\")[0].unit === \"layer_0_layer_0_layer_0\""
                                                },
                                                {
                                                    "value": 0
                                                }
                                            ],
                                            "stroke": [
                                                {
                                                    "value": "white",
                                                    "test": "interval_selection_y[0] !== interval_selection_y[1]"
                                                },
                                                {}
                                            ],
                                            "y": [
                                                {
                                                    "signal": "interval_selection_y[0]",
                                                    "test": "data(\"interval_selection_store\").length && data(\"interval_selection_store\")[0].unit === \"layer_0_layer_0_layer_0\""
                                                },
                                                {
                                                    "value": 0
                                                }
                                            ]
                                        },
                                        "enter": {
                                            "fill": {
                                                "value": "transparent"
                                            },
                                            "cursor": {
                                                "value": "move"
                                            }
                                        }
                                    },
                                    "clip": true
                                }
                            ],
                            "scales": [
                                {
                                    "name": "x",
                                    "type": "linear",
                                    "domain": [
                                        {
                                            "signal": "(data(\"source_0_x_domain_sum_home_workout_2018_2023\")[0] || {}).min"
                                        },
                                        {
                                            "signal": "(data(\"source_0_x_domain_sum_home_workout_2018_2023\")[0] || {}).max"
                                        }
                                    ],
                                    "range": [
                                        0,
                                        {
                                            "signal": "width"
                                        }
                                    ],
                                    "nice": true,
                                    "zero": true
                                },
                                {
                                    "name": "y",
                                    "type": "band",
                                    "domain": {
                                        "data": "source_0_y_domain_Country",
                                        "field": "Country"
                                    },
                                    "range": [
                                        0,
                                        {
                                            "signal": "height"
                                        }
                                    ],
                                    "paddingInner": 0.1,
                                    "paddingOuter": 0.05
                                },
                                {
                                    "name": "layer_0_layer_0_color",
                                    "type": "ordinal",
                                    "domain": [
                                        "home_workout_2018_2023"
                                    ],
                                    "range": [
                                        "#2266D3"
                                    ]
                                }
                            ],
                            "axes": [
                                {
                                    "scale": "x",
                                    "tickCount": 5,
                                    "domain": false,
                                    "labels": false,
                                    "aria": false,
                                    "maxExtent": 0,
                                    "minExtent": 0,
                                    "grid": true,
                                    "zindex": 0,
                                    "ticks": false,
                                    "gridScale": "y",
                                    "orient": "bottom"
                                },
                                {
                                    "scale": "x",
                                    "grid": false,
                                    "tickCount": 5,
                                    "labelFlush": true,
                                    "labelOverlap": true,
                                    "title": "Sum of home_workout_2018_2023",
                                    "encode": {
                                        "labels": {
                                            "update": {
                                                "text": {
                                                    "signal": "numberFormatFromNumberType(datum.value, {\"decimals\":null,\"type\":\"default\"})"
                                                }
                                            }
                                        }
                                    },
                                    "orient": "bottom",
                                    "zindex": 0
                                },
                                {
                                    "scale": "y",
                                    "title": "Country",
                                    "zindex": 0,
                                    "grid": false,
                                    "orient": "left"
                                }
                            ],
                            "title": {
                                "text": "Popularity term 'home workout' per Countries ",
                                "frame": "group"
                            },
                            "usermeta": {
                                "seriesNames": [
                                    "home_workout_2018_2023"
                                ],
                                "specSchemaVersion": 2,
                                "tooltipDefaultMode": true,
                                "seriesOrder": [
                                    0
                                ],
                                "outputMetadata": {
                                    "rowLimitExceeded": false,
                                    "rowLimit": 5000,
                                    "filteredDataframeSize": 250,
                                    "columns": [
                                        {
                                            "name": "Country",
                                            "nativeType": "object",
                                            "distinctValues": [
                                                "Afghanistan",
                                                "Australia",
                                                "Barbados",
                                                "Belize",
                                                "Bhutan",
                                                "Botswana",
                                                "Brunei",
                                                "Canada",
                                                "Ethiopia",
                                                "Fiji",
                                                "Gibraltar",
                                                "Guam",
                                                "Guernsey",
                                                "Guyana",
                                                "Ireland",
                                                "Jersey",
                                                "Lebanon",
                                                "Lesotho",
                                                "Malawi",
                                                "Maldives",
                                                "Malta",
                                                "Mauritius",
                                                "Namibia",
                                                "Philippines",
                                                "Qatar",
                                                "South Africa",
                                                "St. Lucia",
                                                "Trinidad & Tobago",
                                                "United Kingdom",
                                                "Zimbabwe"
                                            ]
                                        },
                                        {
                                            "name": "home_workout_2018_2023",
                                            "nativeType": "float64",
                                            "distinctValues": [
                                                28,
                                                30,
                                                31,
                                                32,
                                                33,
                                                34,
                                                35,
                                                36,
                                                37,
                                                39,
                                                40,
                                                41,
                                                43,
                                                45,
                                                46,
                                                47,
                                                50,
                                                51,
                                                52,
                                                56,
                                                58
                                            ]
                                        },
                                        {
                                            "name": "gym_workout_2018_2023",
                                            "nativeType": "float64",
                                            "distinctValues": [
                                                21,
                                                24,
                                                25,
                                                26,
                                                27,
                                                28,
                                                29,
                                                30,
                                                31,
                                                32,
                                                33,
                                                34,
                                                35,
                                                36,
                                                37,
                                                38,
                                                39,
                                                40,
                                                43,
                                                45,
                                                46,
                                                47,
                                                50
                                            ]
                                        },
                                        {
                                            "name": "home_gym_2018_2023",
                                            "nativeType": "float64",
                                            "distinctValues": [
                                                10,
                                                12,
                                                13,
                                                15,
                                                16,
                                                17,
                                                19,
                                                20,
                                                21,
                                                22,
                                                23,
                                                24,
                                                26,
                                                27,
                                                29,
                                                30,
                                                31,
                                                33,
                                                36,
                                                37,
                                                42,
                                                44
                                            ]
                                        }
                                    ]
                                }
                            },
                            "legends": [
                                {
                                    "fill": "layer_0_layer_0_color",
                                    "symbolType": "square",
                                    "encode": {
                                        "symbols": {
                                            "update": {
                                                "opacity": {
                                                    "value": 1
                                                }
                                            }
                                        }
                                    }
                                }
                            ],
                            "padding": 5,
                            "style": "cell",
                            "config": {
                                "customFormatTypes": true,
                                "legend": {
                                    "disable": false
                                }
                            },
                            "background": "white",
                            "autosize": {
                                "type": "fit",
                                "contains": "padding"
                            }
                        },
                        "text/plain": "<deepnote_toolkit.chart.deepnote_chart.DeepnoteChart at 0x7fcf5ea0d900>"
                    },
                    "metadata": {}
                }
            ],
            "outputs_reference": "s3:deepnote-cell-outputs-production/19bec659-9853-4d42-baa7-badcbabd62ea"
        },
        {
            "cell_type": "markdown",
            "metadata": {
                "formattedRanges": [],
                "cell_id": "fc78af2aa4c9459a832c6570e05891b1",
                "deepnote_cell_type": "text-cell-h2"
            },
            "source": "## You'd be interested in expanding your virtual home workouts offering to either the Philippines or Malaysia. Which of the two countries has the highest interest in home workouts?",
            "block_group": "9be8814440c44efa87b20f047519be96"
        },
        {
            "cell_type": "code",
            "metadata": {
                "source_hash": "841018c4",
                "execution_start": 1759029352928,
                "execution_millis": 0,
                "execution_context_id": "580fb81c-8d6f-4804-9cb5-7036727bb28b",
                "cell_id": "76688b9f0d264652a1fb690d1063767d",
                "deepnote_cell_type": "code"
            },
            "source": "home_workout_geo = home_workout_geo_data[home_workout_geo_data['Country'].isin(['Philippines', 'Malaysia'])]\nmax_idx = home_workout_geo['home_workout_2018_2023'].idxmax()\nhome_workout_geo = home_workout_geo.loc[max_idx, 'Country']\nprint(home_workout_geo)\n",
            "block_group": "3335e3ae30404b4b8e703ebb61f8b150",
            "execution_count": 13,
            "outputs": [
                {
                    "name": "stdout",
                    "text": "Philippines\n",
                    "output_type": "stream"
                }
            ],
            "outputs_reference": "dbtable:cell_outputs/2eb759db-b940-4190-b431-08cfbaba6d7b",
            "content_dependencies": null
        },
        {
            "cell_type": "markdown",
            "source": "<a style='text-decoration:none;line-height:16px;display:flex;color:#5B5B62;padding:10px;justify-content:end;' href='https://deepnote.com?utm_source=created-in-deepnote-cell&projectId=ebaa6d9a-181d-4017-9f6e-ce5fe90ea6cf' target=\"_blank\">\n<img alt='Created in deepnote.com' style='display:inline;max-height:16px;margin:0px;margin-right:7.5px;' src='data:image/svg+xml;base64,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' > </img>\nCreated in <span style='font-weight:600;margin-left:4px;'>Deepnote</span></a>",
            "metadata": {
                "created_in_deepnote_cell": true,
                "deepnote_cell_type": "markdown"
            }
        }
    ],
    "nbformat": 4,
    "nbformat_minor": 0,
    "metadata": {
        "deepnote_persisted_session": {
            "createdAt": "2025-09-28T01:50:54.130Z"
        },
        "deepnote_notebook_id": "32192924c1054d65b822006872d9b0f8"
    }
}